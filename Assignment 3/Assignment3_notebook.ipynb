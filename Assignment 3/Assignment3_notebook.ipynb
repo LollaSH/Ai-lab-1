{
 "cells": [
  {
   "cell_type": "markdown",
   "id": "retired-darkness",
   "metadata": {},
   "source": [
    "# Classification with the perceptron and logistic regression\n",
    "\n",
    "\n",
    "Author of the assignment: Pierre Nugues\n",
    "\n",
    "__Student name__: Edmond Mentori, Aurora Shuti"
   ]
  },
  {
   "cell_type": "markdown",
   "id": "former-expense",
   "metadata": {},
   "source": [
    "## Objectives\n",
    "\n",
    "The objectives of this second assignment are to:\n",
    "\n",
    "1.  Write a linear regression program using gradient descent;\n",
    "2.  Write linear classifiers using the perceptron algorithm and logistic regression;\n",
    "3.  Experiment variations of the algorithms;\n",
    "4.  Evaluate your classifiers;\n",
    "5.  Experiment with popular tools;\n",
    "6.  Read a scientific article on optimization techniques and comment it;\n",
    "7.  Present your code, results, and comments in a short dissertation."
   ]
  },
  {
   "cell_type": "markdown",
   "id": "lasting-booking",
   "metadata": {},
   "source": [
    "## Overview\n",
    "\n",
    "The gradient descent is a basic technique to estimate the parameters of cost functions. \n",
    "1. You will first use the gradient descent method to implement linear regression. \n",
    "2. You will then program the perceptron algorithm. \n",
    "3. Finally, you will improve the threshold function with the logistic curve (logistic regression). \n",
    "\n",
    "You will try various configurations and study their influence on the learning speed and accuracy."
   ]
  },
  {
   "cell_type": "markdown",
   "id": "accredited-salad",
   "metadata": {},
   "source": [
    "##  Programming language\n",
    "As programming language, you will use Python and write your code in this notebook.\n",
    "\n",
    "You need to have a comprehensive Python distribution such as Anaconda (https://www.anaconda.com/products/individual). This distribution is available on the student computers at the computer science department.\n",
    "Finally, you start a notebook by typing:\n",
    "\n",
    "`jupyter lab`\n",
    "\n",
    "in a terminal window and you select the notebook by clicking on it in the left pane.\n",
    "You run the pieces of code by typing shift+enter. You can also use a programming tool like VS Code or PyCharm."
   ]
  },
  {
   "cell_type": "markdown",
   "id": "aerial-bedroom",
   "metadata": {},
   "source": [
    "## Imports\n",
    "Imports you may use"
   ]
  },
  {
   "cell_type": "code",
   "execution_count": 153,
   "id": "complete-mileage",
   "metadata": {},
   "outputs": [],
   "source": [
    "import numpy as np\n",
    "import matplotlib.pyplot as plt\n",
    "from matplotlib import cm\n",
    "from mpl_toolkits.mplot3d import Axes3D"
   ]
  },
  {
   "cell_type": "markdown",
   "id": "similar-stanford",
   "metadata": {},
   "source": [
    "## Linear Regression\n",
    "\n",
    "You will implement the gradient descent method as explained in pages 694-697 in Russell-Norvig (pp. 719--720 in the 3rd ed.) and in the slides to compute regression lines. You will implement the stochastic and batch versions of the algorithm.\n",
    "\n",
    "You must try to do it yourself first. If you encounter difficulties, you also have the solution to this exercise in the section _Solution to linear regression_ below. See: https://github.com/pnugues/edap01/tree/master/gradient_descent_practice"
   ]
  },
  {
   "cell_type": "markdown",
   "id": "included-privacy",
   "metadata": {},
   "source": [
    "### Your implementation of linear regression\n",
    "You will implement a regression program to predict the counts of _A_'s in a text from the total count of letters. You will apply it on two data sets corresponding to letter counts in the 15 chapters of the French and English versions of _Salammbô_, where the first column is the total count of characters and the second one, the count of A's. \n",
    "\n",
    "Start with either French or English and when your program ready, test it on the other language."
   ]
  },
  {
   "cell_type": "code",
   "execution_count": 154,
   "id": "southern-representative",
   "metadata": {},
   "outputs": [],
   "source": [
    "stat_fr = np.array([[36961, 2503],\n",
    "                    [43621, 2992],\n",
    "                    [15694, 1042],\n",
    "                    [36231, 2487],\n",
    "                    [29945, 2014],\n",
    "                    [40588, 2805],\n",
    "                    [75255, 5062],\n",
    "                    [37709, 2643],\n",
    "                    [30899, 2126],\n",
    "                    [25486, 1784],\n",
    "                    [37497, 2641],\n",
    "                    [40398, 2766],\n",
    "                    [74105, 5047],\n",
    "                    [76725, 5312],\n",
    "                    [18317, 1215]])\n",
    "\n",
    "stat_en = np.array([[35680, 2217],\n",
    "                    [42514, 2761],\n",
    "                    [15162, 990],\n",
    "                    [35298, 2274],\n",
    "                    [29800, 1865],\n",
    "                    [40255, 2606],\n",
    "                    [74532, 4805],\n",
    "                    [37464, 2396],\n",
    "                    [31030, 1993],\n",
    "                    [24843, 1627],\n",
    "                    [36172, 2375],\n",
    "                    [39552, 2560],\n",
    "                    [72545, 4597],\n",
    "                    [75352, 4871],\n",
    "                    [18031, 1119]])"
   ]
  },
  {
   "cell_type": "markdown",
   "id": "stuffed-albania",
   "metadata": {},
   "source": [
    "From the datasets above, tell what is ${X}$ and $\\mathbf{y}$. Extract:\n",
    "1. The ${X}$ matrix, where you will have a column to model the intercept;\n",
    "2. The $\\mathbf{y}$ vector\n",
    "\n",
    "from these arrays."
   ]
  },
  {
   "cell_type": "code",
   "execution_count": 155,
   "id": "ultimate-remark",
   "metadata": {},
   "outputs": [],
   "source": [
    "# Write your code here\n",
    "X = [[1, a] for a in stat_fr[:, 0]]\n",
    "y = stat_fr[:, 1]"
   ]
  },
  {
   "cell_type": "markdown",
   "id": "disabled-facing",
   "metadata": {},
   "source": [
    "Scale the arrays so that they fit in the range [0, 1] on the $x$ and $y$ axes. "
   ]
  },
  {
   "cell_type": "code",
   "execution_count": 156,
   "id": "5acc6863",
   "metadata": {},
   "outputs": [],
   "source": [
    "def normalize(Xy):\n",
    "    maxima = np.amax(Xy, axis=0)\n",
    "    Xy = 1/maxima * Xy\n",
    "    return (Xy, maxima)"
   ]
  },
  {
   "cell_type": "code",
   "execution_count": 157,
   "id": "confidential-purple",
   "metadata": {},
   "outputs": [
    {
     "name": "stdout",
     "output_type": "stream",
     "text": [
      "-Normalized-\n"
     ]
    }
   ],
   "source": [
    "# Write your code here\n",
    "normalized = True\n",
    "debug = False\n",
    "X = np.array(X)\n",
    "y = np.array([y]).T\n",
    "\n",
    "X, maxima_X = normalize(X)\n",
    "y, maxima_y = normalize(y)\n",
    "maxima = np.concatenate((maxima_X, maxima_y))\n",
    "alpha = 1.0\n",
    "print(\"-Normalized-\")\n"
   ]
  },
  {
   "cell_type": "markdown",
   "id": "herbal-valve",
   "metadata": {},
   "source": [
    "#### Gradient descent"
   ]
  },
  {
   "cell_type": "markdown",
   "id": "timely-anaheim",
   "metadata": {},
   "source": [
    "Implement the descent functions. You will pass `X`, `y`, the learning rate in the $\\alpha$ variable, the initial weight vector in `w`, the tolerance in the $\\epsilon$ variable, the maximal number of epochs in `epochs`. You will return `w`."
   ]
  },
  {
   "cell_type": "markdown",
   "id": "challenging-shopper",
   "metadata": {},
   "source": [
    "Batch descent"
   ]
  },
  {
   "cell_type": "code",
   "execution_count": 158,
   "id": "b085a212",
   "metadata": {},
   "outputs": [],
   "source": [
    "def sse(X, y, w):\n",
    "    error = y - X @ w\n",
    "    return error.T @ error"
   ]
  },
  {
   "cell_type": "code",
   "execution_count": 159,
   "id": "5048fad8",
   "metadata": {},
   "outputs": [],
   "source": [
    "def predict(X, w):\n",
    "    return X @ w"
   ]
  },
  {
   "cell_type": "code",
   "execution_count": 160,
   "id": "impressive-thickness",
   "metadata": {},
   "outputs": [],
   "source": [
    "# Write your code here\n",
    "def fit_batch(X, y, alpha, w,\n",
    "                  epochs=500,\n",
    "                  epsilon=1.0e-5):\n",
    "    global logs\n",
    "    logs = []\n",
    "    alpha /= len(X)\n",
    "    for epoch in range(epochs):\n",
    "        error = predict(X, w) - y\n",
    "        gradient = X.T @ error\n",
    "        w = w - alpha * gradient\n",
    "        logs += (w, alpha, sse(X, y, w))\n",
    "        if np.linalg.norm(gradient) < epsilon:\n",
    "            break\n",
    "    print(\"Epoch\", epoch)\n",
    "    return w"
   ]
  },
  {
   "cell_type": "markdown",
   "id": "arctic-tobacco",
   "metadata": {},
   "source": [
    "Stochastic descent"
   ]
  },
  {
   "cell_type": "code",
   "execution_count": 161,
   "id": "improved-surrey",
   "metadata": {},
   "outputs": [],
   "source": [
    "# Write your code here\n",
    "def fit_stoch(X, y, alpha, w,\n",
    "                  epochs=500,\n",
    "                  epsilon=1.0e-5):\n",
    "    global logs, logs_stoch\n",
    "    logs = []\n",
    "    logs_stoch = []\n",
    "    np.random.seed(0)\n",
    "    alpha /= len(X)\n",
    "    idx = list(range(len(X)))\n",
    "    for epoch in range(epochs):\n",
    "        np.random.shuffle(idx)\n",
    "        for i in idx:\n",
    "            error = (predict(X[i], w) - y[i])[0]\n",
    "            gradient = error * X[i:i + 1].T\n",
    "            w = w - alpha * gradient\n",
    "            logs_stoch += (w, alpha, sse(X, y, w))\n",
    "        if np.linalg.norm(gradient) < epsilon:\n",
    "            break\n",
    "        logs += (w, alpha, sse(X, y, w))\n",
    "    print(\"Epoch\", epoch)\n",
    "    return w"
   ]
  },
  {
   "cell_type": "markdown",
   "id": "becoming-upset",
   "metadata": {},
   "source": [
    "#### Applying batch descent"
   ]
  },
  {
   "cell_type": "markdown",
   "id": "atomic-given",
   "metadata": {},
   "source": [
    "Apply the batch descent and print the final weight values "
   ]
  },
  {
   "cell_type": "code",
   "execution_count": 162,
   "id": "equipped-consensus",
   "metadata": {},
   "outputs": [
    {
     "name": "stdout",
     "output_type": "stream",
     "text": [
      "===Batch descent===\n",
      "Epoch 236\n",
      "Weights [[0.00164941]\n",
      " [0.98651634]]\n",
      "SSE [[0.00100614]]\n",
      "Restored weights [[8.76164958]\n",
      " [0.06830075]]\n"
     ]
    }
   ],
   "source": [
    "# Write your code here\n",
    "print(\"===Batch descent===\")\n",
    "w = np.zeros((X.shape[1], 1))\n",
    "w = fit_batch(X, y, alpha, w)\n",
    "print(\"Weights\", w)\n",
    "print(\"SSE\", sse(X, y, w))\n",
    "\n",
    "maxima = maxima.reshape(-1, 1)\n",
    "w = maxima[-1, 0] * (w / maxima[:-1, 0:1])\n",
    "print(\"Restored weights\", w)\n"
   ]
  },
  {
   "cell_type": "markdown",
   "id": "heavy-asbestos",
   "metadata": {},
   "source": [
    "Visualize the points of your dataset as well as the regression lines you obtain using matplotlib or another similar program."
   ]
  },
  {
   "cell_type": "code",
   "execution_count": 163,
   "id": "2200fc40",
   "metadata": {},
   "outputs": [],
   "source": [
    "x_fig = [X[i][1] * maxima_X[1] for i in range(len(X))]\n",
    "y_fig = [yi * maxima_y for yi in y]"
   ]
  },
  {
   "cell_type": "code",
   "execution_count": 164,
   "id": "e1fc12a6",
   "metadata": {},
   "outputs": [
    {
     "data": {
      "text/plain": [
       "array([1080.67357346])"
      ]
     },
     "execution_count": 164,
     "metadata": {},
     "output_type": "execute_result"
    }
   ],
   "source": [
    "min(x_fig)\n",
    "[1, min(x_fig)]@w"
   ]
  },
  {
   "cell_type": "code",
   "execution_count": 165,
   "id": "variable-sphere",
   "metadata": {},
   "outputs": [
    {
     "data": {
      "image/png": "[encoded data removed]",
      "text/plain": [
       "<Figure size 640x480 with 1 Axes>"
      ]
     },
     "metadata": {},
     "output_type": "display_data"
    }
   ],
   "source": [
    "# Write your code here\n",
    "plt.scatter(x_fig, y_fig)\n",
    "plt.plot([min(x_fig), max(x_fig)],\n",
    "         [[1, min(x_fig)] @ w, [1, max(x_fig)] @ w])\n",
    "plt.show()"
   ]
  },
  {
   "cell_type": "markdown",
   "id": "higher-relations",
   "metadata": {},
   "source": [
    "#### Stochastic descent"
   ]
  },
  {
   "cell_type": "code",
   "execution_count": 166,
   "id": "charged-memory",
   "metadata": {},
   "outputs": [
    {
     "name": "stdout",
     "output_type": "stream",
     "text": [
      "===Stochastic descent===\n",
      "Epoch 254\n",
      "Weights [[0.00232114]\n",
      " [0.98653539]]\n",
      "SSE [[0.00101313]]\n",
      "Restored weights [[12.32988341]\n",
      " [ 0.06830207]]\n"
     ]
    }
   ],
   "source": [
    "# Write your code here\n",
    "print(\"===Stochastic descent===\")\n",
    "w = np.zeros((X.shape[1], 1))\n",
    "w = fit_stoch(X, y, alpha, w)\n",
    "print(\"Weights\", w)\n",
    "print(\"SSE\", sse(X, y, w))\n",
    "if normalized:\n",
    "    maxima = maxima.reshape(-1, 1)\n",
    "    w = maxima[-1, 0] * (w / maxima[:-1, 0:1])\n",
    "    print(\"Restored weights\", w)\n",
    "if debug:\n",
    "    print(\"Logs\", logs)\n",
    "    print(\"Logs stoch.\", logs_stoch)"
   ]
  },
  {
   "cell_type": "markdown",
   "id": "dependent-concentration",
   "metadata": {},
   "source": [
    "Visualize the points of your dataset as well as the regression lines you obtain using matplotlib or another similar program."
   ]
  },
  {
   "cell_type": "code",
   "execution_count": 167,
   "id": "specific-least",
   "metadata": {},
   "outputs": [
    {
     "data": {
      "image/png": "[encoded data removed]",
      "text/plain": [
       "<Figure size 640x480 with 1 Axes>"
      ]
     },
     "metadata": {},
     "output_type": "display_data"
    }
   ],
   "source": [
    "# Write your code here\n",
    "plt.scatter(x_fig, y_fig)\n",
    "plt.plot([min(x_fig), max(x_fig)],\n",
    "         [[1, min(x_fig)] @ w, [1, max(x_fig)] @ w])\n",
    "plt.show()"
   ]
  },
  {
   "cell_type": "markdown",
   "id": "sudden-collapse",
   "metadata": {},
   "source": [
    "### A solution to linear regression\n",
    "\n",
    "To help you start this assignment, your instructor wrote two Python notebooks that solve this exercise on linear regression. You can find them here: https://github.com/pnugues/edap01/tree/master/gradient_descent_practice\n",
    "\n",
    "2. The first notebook, `gradient_descent_numpy.ipynb`, uses Numpy. It is more compact, but you need to know a bit of numpy, for instance you multiply matrix `M` by matrix `N` with the operation `M @ N`\n",
    "1. The second notebook, `gradient_descent.ipynb`, only uses Python. The vector and matrix operations such as the dot product that are in the `vector.py` file. You can see how your instructor write the dot product or matrix multiplication operations so that there is no magic as with NumPy\n",
    "\n",
    "\n",
    "To run these programs, download them on your computer as well as the other program in the import list: vector.py\n",
    "\n",
    "The programs are also available as Python programs from\n",
    "https://github.com/pnugues/ilppp/tree/master/programs/ch04/python"
   ]
  },
  {
   "cell_type": "markdown",
   "id": "acoustic-register",
   "metadata": {},
   "source": [
    "## Classification\n",
    "You will use the same data set as for linear regression, but this time to classify a chapter as French or English. Given a pair of numbers corresponding the letter count and count of _A_, you will predict the language:\n",
    "1. $\\mathbf{x} = (35680, 2217)$ $\\to$ $y$ = English\n",
    "2. $\\mathbf{x} = (37497, 2641)$ $\\to$ $y$ = French"
   ]
  },
  {
   "cell_type": "markdown",
   "id": "surrounded-belgium",
   "metadata": {},
   "source": [
    "### The dataset\n",
    "You will use the arrays below:\n",
    "1. `X` contains the counts of letters and of _A_ s as well as a column of ones for the intercept;\n",
    "2. `y` contains the classes, where 0 is for English and 1 for French."
   ]
  },
  {
   "cell_type": "code",
   "execution_count": 168,
   "id": "acceptable-coordination",
   "metadata": {},
   "outputs": [],
   "source": [
    "X = np.array([[1.0, 35680.0, 2217.0],\n",
    "              [1.0, 42514.0, 2761.0],\n",
    "              [1.0, 15162.0, 990.0],\n",
    "              [1.0, 35298.0, 2274.0],\n",
    "              [1.0, 29800.0, 1865.0],\n",
    "              [1.0, 40255.0, 2606.0],\n",
    "              [1.0, 74532.0, 4805.0],\n",
    "              [1.0, 37464.0, 2396.0],\n",
    "              [1.0, 31030.0, 1993.0],\n",
    "              [1.0, 24843.0, 1627.0],\n",
    "              [1.0, 36172.0, 2375.0],\n",
    "              [1.0, 39552.0, 2560.0],\n",
    "              [1.0, 72545.0, 4597.0],\n",
    "              [1.0, 75352.0, 4871.0],\n",
    "              [1.0, 18031.0, 1119.0],\n",
    "              [1.0, 36961.0, 2503.0],\n",
    "              [1.0, 43621.0, 2992.0],\n",
    "              [1.0, 15694.0, 1042.0],\n",
    "              [1.0, 36231.0, 2487.0],\n",
    "              [1.0, 29945.0, 2014.0],\n",
    "              [1.0, 40588.0, 2805.0],\n",
    "              [1.0, 75255.0, 5062.0],\n",
    "              [1.0, 37709.0, 2643.0],\n",
    "              [1.0, 30899.0, 2126.0],\n",
    "              [1.0, 25486.0, 1784.0],\n",
    "              [1.0, 37497.0, 2641.0],\n",
    "              [1.0, 40398.0, 2766.0],\n",
    "              [1.0, 74105.0, 5047.0],\n",
    "              [1.0, 76725.0, 5312.0],\n",
    "              [1.0, 18317.0, 1215.0]])\n",
    "y = np.array([0.0, 0.0, 0.0, 0.0, 0.0, 0.0, 0.0, 0.0, 0.0, 0.0, 0.0, 0.0, 0.0, 0.0, 0.0,\n",
    "              1.0, 1.0, 1.0, 1.0, 1.0, 1.0, 1.0, 1.0, 1.0, 1.0, 1.0, 1.0, 1.0, 1.0, 1.0])"
   ]
  },
  {
   "cell_type": "markdown",
   "id": "collected-package",
   "metadata": {},
   "source": [
    "We visualize it"
   ]
  },
  {
   "cell_type": "code",
   "execution_count": 169,
   "id": "sudden-making",
   "metadata": {},
   "outputs": [],
   "source": [
    "x_fr = [x[1] for i, x in enumerate(X) if y[i] == 1]\n",
    "y_fr = [x[2] for i, x in enumerate(X) if y[i] == 1]\n",
    "x_en = [x[1] for i, x in enumerate(X) if y[i] == 0]\n",
    "y_en = [x[2] for i, x in enumerate(X) if y[i] == 0]"
   ]
  },
  {
   "cell_type": "code",
   "execution_count": 170,
   "id": "selective-retrieval",
   "metadata": {},
   "outputs": [
    {
     "data": {
      "text/plain": [
       "<matplotlib.collections.PathCollection at 0x15a5e62d0>"
      ]
     },
     "execution_count": 170,
     "metadata": {},
     "output_type": "execute_result"
    },
    {
     "data": {
      "image/png": "[encoded data removed]",
      "text/plain": [
       "<Figure size 640x480 with 1 Axes>"
      ]
     },
     "metadata": {},
     "output_type": "display_data"
    }
   ],
   "source": [
    "plt.scatter(x_fr, y_fr, color='red')\n",
    "plt.scatter(x_en, y_en, color='blue')"
   ]
  },
  {
   "cell_type": "markdown",
   "id": "classified-chair",
   "metadata": {},
   "source": [
    "### Normalize the dataset"
   ]
  },
  {
   "cell_type": "markdown",
   "id": "norman-engagement",
   "metadata": {},
   "source": [
    "Gradient descent algorithms can be very sensitive to the range. Therefore, we normalize the dataset."
   ]
  },
  {
   "cell_type": "code",
   "execution_count": 171,
   "id": "abroad-clothing",
   "metadata": {},
   "outputs": [],
   "source": [
    "def normalize(Xy):\n",
    "    maxima = np.amax(Xy, axis=0)\n",
    "    Xy = 1/maxima * Xy\n",
    "    return (Xy, maxima)"
   ]
  },
  {
   "cell_type": "code",
   "execution_count": 172,
   "id": "intellectual-arcade",
   "metadata": {},
   "outputs": [
    {
     "data": {
      "text/plain": [
       "array([[1.        , 0.46503747, 0.41735693],\n",
       "       [1.        , 0.55410883, 0.51976657],\n",
       "       [1.        , 0.19761486, 0.18637048],\n",
       "       [1.        , 0.46005865, 0.42808735],\n",
       "       [1.        , 0.38840013, 0.35109187],\n",
       "       [1.        , 0.52466601, 0.49058735],\n",
       "       [1.        , 0.9714174 , 0.90455572],\n",
       "       [1.        , 0.48828935, 0.45105422],\n",
       "       [1.        , 0.40443141, 0.37518825],\n",
       "       [1.        , 0.32379277, 0.30628765],\n",
       "       [1.        , 0.47144998, 0.4471009 ],\n",
       "       [1.        , 0.51550342, 0.48192771],\n",
       "       [1.        , 0.94551971, 0.8653991 ],\n",
       "       [1.        , 0.98210492, 0.91698042],\n",
       "       [1.        , 0.23500815, 0.21065512],\n",
       "       [1.        , 0.48173346, 0.47119729],\n",
       "       [1.        , 0.56853698, 0.56325301],\n",
       "       [1.        , 0.20454871, 0.19615964],\n",
       "       [1.        , 0.47221896, 0.46818524],\n",
       "       [1.        , 0.39029   , 0.37914157],\n",
       "       [1.        , 0.52900619, 0.5280497 ],\n",
       "       [1.        , 0.98084066, 0.95293675],\n",
       "       [1.        , 0.49148257, 0.49755271],\n",
       "       [1.        , 0.40272401, 0.4002259 ],\n",
       "       [1.        , 0.33217335, 0.33584337],\n",
       "       [1.        , 0.48871945, 0.4971762 ],\n",
       "       [1.        , 0.52652981, 0.52070783],\n",
       "       [1.        , 0.96585207, 0.95011295],\n",
       "       [1.        , 1.        , 1.        ],\n",
       "       [1.        , 0.23873574, 0.22872741]])"
      ]
     },
     "execution_count": 172,
     "metadata": {},
     "output_type": "execute_result"
    }
   ],
   "source": [
    "X_norm, maxima = normalize(X)\n",
    "X_norm"
   ]
  },
  {
   "cell_type": "markdown",
   "id": "ancient-stewart",
   "metadata": {
    "tags": []
   },
   "source": [
    "## The Perceptron\n",
    "\n",
    "1. Write the perceptron program as explained in pages 700--702 in Russell-Norvig (pp. 723--725 in the 3rd ed.) and in the slides and run it on your data set. As suggested program structure, use two functions: \n",
    " * `fit(X, y)` that will return `w` (the model). You can choose a stochastic or batch variant;\n",
    " * `predict(X, w)` that will return `y_hat`. You can encapsulate these functions in a class and, of course, add more parameters.\n",
    "2. As a stop criterion, you will use the number of misclassified examples.\n",
    "3. You will report the parameters you have used and the weight vector\n",
    "\n",
    "You can use numpy or not. The next cells are just suggested steps. You can implement it your way."
   ]
  },
  {
   "cell_type": "markdown",
   "id": "worthy-singing",
   "metadata": {},
   "source": [
    "### The `predict(X, w)` function\n",
    "Write a `predict(X, w)` function that given a matrix of observations ${X}$ and a weight vector $\\mathbf{w}$ will return a $\\mathbf{\\hat{y}}$ vector classes (0 or 1)"
   ]
  },
  {
   "cell_type": "code",
   "execution_count": 173,
   "id": "applicable-insight",
   "metadata": {},
   "outputs": [],
   "source": [
    "# Write your code here\n",
    "def predict(X, w):\n",
    "    return 1 if (X @ w)[0, 0] >= 0 else 0"
   ]
  },
  {
   "cell_type": "markdown",
   "id": "elementary-smoke",
   "metadata": {},
   "source": [
    "### The `fit(X, y)` function"
   ]
  },
  {
   "cell_type": "markdown",
   "id": "interior-voice",
   "metadata": {},
   "source": [
    "Write a `fit(X, y)` function that given a matrix of observations ${X}$ and a vector of responses $\\mathbf{y}$ will return a weight $\\mathbf{w}$ vector. You may use the other arguments of the function, notably the number of misclassified examples to define the stop condition."
   ]
  },
  {
   "cell_type": "code",
   "execution_count": 174,
   "id": "provincial-stand",
   "metadata": {},
   "outputs": [],
   "source": [
    "# Write your code here\n",
    "import random\n",
    "\n",
    "\n",
    "def fit_stoch(X, y, \n",
    "              epochs=1000, \n",
    "              max_misclassified=0, \n",
    "              verbose=True):\n",
    "    w = np.zeros((X.shape[1], 1))\n",
    "    for epoch in range(epochs):\n",
    "        misclassified = 0\n",
    "        indices = list(range(len(X)))\n",
    "        np.random.shuffle(indices)\n",
    "        for i in indices:\n",
    "            x_i = X[i].reshape(1, -1)\n",
    "            y_i = y[i]\n",
    "            y_pred = predict(x_i, w)\n",
    "            if y_pred != y_i:\n",
    "                misclassified += 1            \n",
    "                if y_i == 1 and y_pred == 0:\n",
    "                    w = w + x_i.T\n",
    "                elif y_i == 0 and y_pred == 1:\n",
    "                    w = w - x_i.T\n",
    "                \n",
    "        if misclassified <= max_misclassified:\n",
    "            break\n",
    "    if verbose:\n",
    "        print(f\"Missclassified obesrvations: {misclassified}\")\n",
    "    print(f\"epochs: {epoch}, weights: {w.ravel()}\", end=':')\n",
    "    return w"
   ]
  },
  {
   "cell_type": "markdown",
   "id": "frozen-demand",
   "metadata": {},
   "source": [
    "### Fitting the dataset"
   ]
  },
  {
   "cell_type": "code",
   "execution_count": 175,
   "id": "chinese-serial",
   "metadata": {},
   "outputs": [
    {
     "name": "stdout",
     "output_type": "stream",
     "text": [
      "Missclassified obesrvations: 0\n",
      "epochs: 41, weights: [ 0.         -5.03658521  5.2748494 ]:"
     ]
    },
    {
     "data": {
      "text/plain": [
       "array([[ 0.        ],\n",
       "       [-5.03658521],\n",
       "       [ 5.2748494 ]])"
      ]
     },
     "execution_count": 175,
     "metadata": {},
     "output_type": "execute_result"
    }
   ],
   "source": [
    "w = fit_stoch(X_norm, y)\n",
    "w"
   ]
  },
  {
   "cell_type": "code",
   "execution_count": 176,
   "id": "racial-antarctica",
   "metadata": {},
   "outputs": [
    {
     "name": "stdout",
     "output_type": "stream",
     "text": [
      "Restored weights [array([0.]), array([-0.34870434]), array([5.2748494])]\n",
      "Weights with y set to 1 [array([0.]), array([-0.06610698]), array([1.])]\n"
     ]
    }
   ],
   "source": [
    "w = [w[i] * maxima[-1] / maxima[i] for i in range(len(w))]\n",
    "print(\"Restored weights\", w)\n",
    "w = [w[j] / w[-1] for j in range(len(w))]\n",
    "print(\"Weights with y set to 1\", w)"
   ]
  },
  {
   "cell_type": "markdown",
   "id": "editorial-combination",
   "metadata": {},
   "source": [
    "### Visualizing the results"
   ]
  },
  {
   "cell_type": "code",
   "execution_count": 177,
   "id": "alone-granny",
   "metadata": {},
   "outputs": [
    {
     "data": {
      "text/plain": [
       "[<matplotlib.lines.Line2D at 0x15a5d6870>]"
      ]
     },
     "execution_count": 177,
     "metadata": {},
     "output_type": "execute_result"
    },
    {
     "data": {
      "image/png": "[encoded data removed]",
      "text/plain": [
       "<Figure size 640x480 with 1 Axes>"
      ]
     },
     "metadata": {},
     "output_type": "display_data"
    }
   ],
   "source": [
    "plt.scatter(x_fr, y_fr, color='red')\n",
    "plt.scatter(x_en, y_en, color='blue')\n",
    "plt.plot([min(x_fr + x_en), max(x_fr + x_en)],\n",
    "         [-w[1] * min(x_fr + x_en) - w[0], -w[1] * max(x_fr + x_en) - w[0]])"
   ]
  },
  {
   "cell_type": "markdown",
   "id": "grateful-liberia",
   "metadata": {},
   "source": [
    "### Evaluation\n",
    "Evaluate your perceptron using the leave-one-out cross validation method. You will have to train and run 30 models. In each train/run session, you will train on 29 samples and evaluate on the remaining sample. You have then either a correct or a wrong classification. You will sum these classifications, i.e. the number of correct classifications, to get your final evaluation, for instance 29/30."
   ]
  },
  {
   "cell_type": "code",
   "execution_count": 178,
   "id": "tight-pilot",
   "metadata": {},
   "outputs": [],
   "source": [
    "# Write your code here\n",
    "def leave_one_out_cross_val(X, y, fitting_function):\n",
    "    score = 0\n",
    "    n_samples = len(X)\n",
    "    for i in range(n_samples):\n",
    "        X_train = np.delete(X, i, axis=0)\n",
    "        y_train = np.delete(y, i, axis=0)\n",
    "        X_test = X[i].reshape(1, -1)\n",
    "        y_test = y[i]\n",
    "        print(f\"Fold {i+1} on {n_samples}:\", end=' ')\n",
    "        w = fitting_function(X_train, y_train, verbose=False)\n",
    "        y_pred = predict(X_test, w)\n",
    "        \n",
    "        if y_pred == y_test:\n",
    "            score += 1\n",
    "            print(\" Correct\")\n",
    "        else:\n",
    "            print(\" Wrong\")\n",
    "    return score / n_samples"
   ]
  },
  {
   "cell_type": "code",
   "execution_count": 179,
   "id": "transsexual-malpractice",
   "metadata": {},
   "outputs": [
    {
     "name": "stdout",
     "output_type": "stream",
     "text": [
      "Fold 1 on 30: epochs: 8, weights: [ 0.         -0.88087325  0.921875  ]: Correct\n",
      "Fold 2 on 30: epochs: 17, weights: [ 0.         -2.24845878  2.36784639]: Correct\n",
      "Fold 3 on 30: epochs: 17, weights: [ 0.         -1.975145    2.08000753]: Correct\n",
      "Fold 4 on 30: epochs: 43, weights: [ 0.         -5.05866406  5.30120482]: Correct\n",
      "Fold 5 on 30: epochs: 95, weights: [  0.         -10.28044314  10.81174699]: Correct\n",
      "Fold 6 on 30: epochs: 41, weights: [ 0.         -4.85944607  5.11106928]: Correct\n",
      "Fold 7 on 30: epochs: 44, weights: [ 0.         -5.07367872  5.32605422]: Correct\n",
      "Fold 8 on 30: epochs: 43, weights: [ 0.         -5.14979472  5.38704819]: Correct\n",
      "Fold 9 on 30: epochs: 17, weights: [ 0.         -1.92140762  2.01713102]: Correct\n",
      "Fold 10 on 30: epochs: 27, weights: [ 0.         -3.04123819  3.20481928]: Correct\n",
      "Fold 11 on 30: epochs: 17, weights: [ 0.         -2.32040404  2.43844127]: Correct\n",
      "Fold 12 on 30: epochs: 7, weights: [ 0.         -0.75994787  0.79988705]: Correct\n",
      "Fold 13 on 30: epochs: 28, weights: [ 0.         -2.95924405  3.09544428]: Correct\n",
      "Fold 14 on 30: epochs: 69, weights: [ 0.         -7.56595634  7.89815512]: Correct\n",
      "Fold 15 on 30: epochs: 66, weights: [ 0.         -7.32792441  7.65530873]: Correct\n",
      "Fold 16 on 30: epochs: 27, weights: [ 0.         -3.3467579   3.50244729]: Correct\n",
      "Fold 17 on 30: epochs: 26, weights: [ 0.         -2.85011404  2.9783509 ]: Correct\n",
      "Fold 18 on 30: epochs: 48, weights: [ 0.         -5.97582274  6.27786145]: Correct\n",
      "Fold 19 on 30: epochs: 20, weights: [ 0.        -2.4897491  2.6157756]: Correct\n",
      "Fold 20 on 30: epochs: 24, weights: [ 0.        -2.8531248  2.9815512]: Correct\n",
      "Fold 21 on 30: epochs: 32, weights: [ 0.         -3.86610622  4.06588855]: Correct\n",
      "Fold 22 on 30: epochs: 31, weights: [ 0.         -3.58338221  3.75094127]: Correct\n",
      "Fold 23 on 30: epochs: 46, weights: [ 0.         -5.25437602  5.51298946]: Correct\n",
      "Fold 24 on 30: epochs: 15, weights: [ 0.         -1.8913392   1.98362199]: Correct\n",
      "Fold 25 on 30: epochs: 15, weights: [ 0.         -2.09846856  2.19917169]: Correct\n",
      "Fold 26 on 30: epochs: 15, weights: [ 0.         -1.8189899   1.91114458]: Correct\n",
      "Fold 27 on 30: epochs: 18, weights: [ 0.         -2.23517758  2.34393825]: Correct\n",
      "Fold 28 on 30: epochs: 16, weights: [ 0.         -2.06230042  2.16942771]: Correct\n",
      "Fold 29 on 30: epochs: 46, weights: [ 0.         -5.26352558  5.50527108]: Correct\n",
      "Fold 30 on 30: epochs: 54, weights: [ 0.         -6.41175627  6.68881777]: Wrong\n",
      "Cross-validation accuracy (stochastic): 0.9666666666666667\n"
     ]
    }
   ],
   "source": [
    "stoch_accuracy = leave_one_out_cross_val(X_norm, y, fit_stoch)\n",
    "print('Cross-validation accuracy (stochastic):', stoch_accuracy)"
   ]
  },
  {
   "cell_type": "markdown",
   "id": "abandoned-saint",
   "metadata": {},
   "source": [
    "## Logistic Regression\n",
    "From your perceptron program, implement logistic regression. You can either follow the description from the slides or from the textbook, S. Russell and R. Norvig, _Artificial Intelligence_, 2022, pages 702--704 (pp. 725--727 in the 3rd ed.). Note that the textbook uses a criterion that is rejected by most practioners. You can either implement the stochastic or the batch version of the algorithm, or both versions. As stop criterion, you will use either the norm of the gradient or the norm of the difference between two consecutive weight vectors. You will also set a maximal number of epochs. Run the resulting program on your dataset."
   ]
  },
  {
   "cell_type": "markdown",
   "id": "treated-affiliation",
   "metadata": {},
   "source": [
    "Write the logistic function, where the $\\mathbf{x}$ input is a vector of real numbers."
   ]
  },
  {
   "cell_type": "code",
   "execution_count": 180,
   "id": "composite-broadcast",
   "metadata": {},
   "outputs": [],
   "source": [
    "# Write your code here\n",
    "def logistic(x):\n",
    "    return 1 / (1 + np.exp(-x))"
   ]
  },
  {
   "cell_type": "markdown",
   "id": "funded-violation",
   "metadata": {},
   "source": [
    "### The `predict(X, w)` function"
   ]
  },
  {
   "cell_type": "markdown",
   "id": "alleged-delaware",
   "metadata": {},
   "source": [
    "Write a `predict_proba()` function that given a matrix of observations ${X}$ and a weight vector $\\mathbf{w}$ will return a vector of probabilities to belong to class 1: The vector will consist of $P(1|\\mathbf{x}_i)$ for all the $i$ rows of ${X}$."
   ]
  },
  {
   "cell_type": "code",
   "execution_count": 181,
   "id": "parental-winning",
   "metadata": {},
   "outputs": [],
   "source": [
    "# Write your code here\n",
    "def predict_proba(X, w):\n",
    "    return logistic(np.dot(X, w))"
   ]
  },
  {
   "cell_type": "markdown",
   "id": "olive-equilibrium",
   "metadata": {},
   "source": [
    "Write a `predict(X, w)` function that given a matrix of observations ${X}$ and a weight vector $\\mathbf{w}$ will return the class. You will use `predict_proba()` and set the threshold to belong to class 1 to 0.5."
   ]
  },
  {
   "cell_type": "code",
   "execution_count": 182,
   "id": "directed-freeze",
   "metadata": {},
   "outputs": [],
   "source": [
    "# Write your code here\n",
    "def predict(X, w):\n",
    "    proba = predict_proba(X, w)\n",
    "    return (proba >= 0.5).astype(float)"
   ]
  },
  {
   "cell_type": "markdown",
   "id": "weird-replication",
   "metadata": {},
   "source": [
    "### The `fit(X, y)` function"
   ]
  },
  {
   "cell_type": "markdown",
   "id": "electric-bunny",
   "metadata": {},
   "source": [
    "You will now write the `fit(X, y)` function as with the perceptron. You may call it `fit_stoch(X, y)` or `fit_batch(X, y)`. Use the parameters given in the cell below."
   ]
  },
  {
   "cell_type": "code",
   "execution_count": 183,
   "id": "forward-concentrate",
   "metadata": {},
   "outputs": [],
   "source": [
    "# Write your code here\n",
    "import random\n",
    "\n",
    "\n",
    "def fit_stoch(X, y, alpha=100, epochs=1000, epsilon=1.0e-4, verbose=False):\n",
    "    w = np.zeros(X.shape[1])\n",
    "    for epoch in range(epochs):\n",
    "        indices = list(range(len(X)))\n",
    "        np.random.shuffle(indices)\n",
    "        for i in indices:\n",
    "            p = predict_proba(X[i], w)\n",
    "            gradient = (p - y[i]) * X[i]\n",
    "            w = w - alpha * gradient\n",
    "        \n",
    "        predictions = predict_proba(X, w)\n",
    "        grad_all = X.T @ (predictions - y)\n",
    "        grad_norm = np.linalg.norm(grad_all)\n",
    "        \n",
    "        likelihood = np.mean(y * predictions + (1 - y) * (1 - predictions))\n",
    "        if verbose:\n",
    "            print(f\"Epoch {epoch}: Gradient: {grad_norm}, Likelihood: {likelihood}\")\n",
    "        if grad_norm < epsilon:\n",
    "            break\n",
    "    print(f\"epochs: {epoch}, weights: {w}, likelihood: {likelihood}: \")\n",
    "    return w"
   ]
  },
  {
   "cell_type": "code",
   "execution_count": 184,
   "id": "presidential-adoption",
   "metadata": {},
   "outputs": [
    {
     "name": "stdout",
     "output_type": "stream",
     "text": [
      "Epoch 0: Gradient: 18.815102618058862, Likelihood: 0.5\n",
      "Epoch 1: Gradient: 9.39524179201635, Likelihood: 0.4998513470010563\n",
      "Epoch 2: Gradient: 18.815102618058862, Likelihood: 0.5\n",
      "Epoch 3: Gradient: 18.490582652111698, Likelihood: 0.5\n",
      "Epoch 4: Gradient: 9.577126687829546, Likelihood: 0.5000032259955955\n",
      "Epoch 5: Gradient: 18.815102618058862, Likelihood: 0.5\n",
      "Epoch 6: Gradient: 18.490582652111698, Likelihood: 0.5\n",
      "Epoch 7: Gradient: 18.815102618058862, Likelihood: 0.5\n",
      "Epoch 8: Gradient: 18.490582387900663, Likelihood: 0.5000000049922791\n",
      "Epoch 9: Gradient: 18.815102618058862, Likelihood: 0.5\n",
      "Epoch 10: Gradient: 18.490582652111698, Likelihood: 0.5\n",
      "Epoch 11: Gradient: 2.8278373113032873, Likelihood: 0.5941264077627945\n",
      "Epoch 12: Gradient: 9.577102256937318, Likelihood: 0.500002356833312\n",
      "Epoch 13: Gradient: 18.490582652111698, Likelihood: 0.5\n",
      "Epoch 14: Gradient: 6.574248098987588, Likelihood: 0.5823647042261106\n",
      "Epoch 15: Gradient: 18.8144132901734, Likelihood: 0.5000139181615235\n",
      "Epoch 16: Gradient: 14.012417575558057, Likelihood: 0.5995304247316022\n",
      "Epoch 17: Gradient: 18.490582652111698, Likelihood: 0.5\n",
      "Epoch 18: Gradient: 18.815102618058862, Likelihood: 0.5\n",
      "Epoch 19: Gradient: 18.490581819157303, Likelihood: 0.5000000242411283\n",
      "Epoch 20: Gradient: 18.81337410277779, Likelihood: 0.5000196583338848\n",
      "Epoch 21: Gradient: 9.576510306070576, Likelihood: 0.500013593316373\n",
      "Epoch 22: Gradient: 18.815102618058862, Likelihood: 0.5\n",
      "Epoch 23: Gradient: 9.577004902618544, Likelihood: 0.5000000020661186\n",
      "Epoch 24: Gradient: 18.815102618058862, Likelihood: 0.5\n",
      "Epoch 25: Gradient: 18.815102618058862, Likelihood: 0.5\n",
      "Epoch 26: Gradient: 18.490582482442846, Likelihood: 0.5000000036142976\n",
      "Epoch 27: Gradient: 18.815102618058862, Likelihood: 0.5\n",
      "Epoch 28: Gradient: 18.815102618058862, Likelihood: 0.5\n",
      "Epoch 29: Gradient: 2.6121330971605508, Likelihood: 0.7107336382207133\n",
      "Epoch 30: Gradient: 18.815102618058862, Likelihood: 0.5\n",
      "Epoch 31: Gradient: 9.45129529677078, Likelihood: 0.6380941816315021\n",
      "Epoch 32: Gradient: 11.283135939802746, Likelihood: 0.5400531112024171\n",
      "Epoch 33: Gradient: 18.815102618058862, Likelihood: 0.5\n",
      "Epoch 34: Gradient: 13.81567198603975, Likelihood: 0.600242352168396\n",
      "Epoch 35: Gradient: 18.490582652052343, Likelihood: 0.5000000000016943\n",
      "Epoch 36: Gradient: 18.490582652111698, Likelihood: 0.5\n",
      "Epoch 37: Gradient: 18.815102618058862, Likelihood: 0.5\n",
      "Epoch 38: Gradient: 18.490582652111698, Likelihood: 0.5\n",
      "Epoch 39: Gradient: 18.815102618058862, Likelihood: 0.5\n",
      "Epoch 40: Gradient: 18.81510261805886, Likelihood: 0.5\n",
      "Epoch 41: Gradient: 18.815102618058862, Likelihood: 0.5\n",
      "Epoch 42: Gradient: 18.490582652111698, Likelihood: 0.5\n",
      "Epoch 43: Gradient: 18.815102618058862, Likelihood: 0.5\n",
      "Epoch 44: Gradient: 18.490582652111698, Likelihood: 0.5\n",
      "Epoch 45: Gradient: 18.815102510428794, Likelihood: 0.5000000021731104\n",
      "Epoch 46: Gradient: 18.815102618058862, Likelihood: 0.5\n",
      "Epoch 47: Gradient: 18.490582652111698, Likelihood: 0.5\n",
      "Epoch 48: Gradient: 18.490582652111698, Likelihood: 0.5\n",
      "Epoch 49: Gradient: 12.323909559512979, Likelihood: 0.6537498009167709\n",
      "Epoch 50: Gradient: 18.815102618058862, Likelihood: 0.5\n",
      "Epoch 51: Gradient: 18.815102618058862, Likelihood: 0.5\n",
      "Epoch 52: Gradient: 18.815102618058862, Likelihood: 0.5\n",
      "Epoch 53: Gradient: 1.914488997550645, Likelihood: 0.8366021629154458\n",
      "Epoch 54: Gradient: 18.815102618058862, Likelihood: 0.5\n",
      "Epoch 55: Gradient: 18.490582652111698, Likelihood: 0.5\n",
      "Epoch 56: Gradient: 18.490582652111698, Likelihood: 0.5\n",
      "Epoch 57: Gradient: 18.815102618058862, Likelihood: 0.5\n",
      "Epoch 58: Gradient: 18.490582652111698, Likelihood: 0.5\n",
      "Epoch 59: Gradient: 14.01174440918646, Likelihood: 0.5998657107755957\n",
      "Epoch 60: Gradient: 18.490582652111698, Likelihood: 0.5\n",
      "Epoch 61: Gradient: 18.490153821488104, Likelihood: 0.5000132501134428\n",
      "Epoch 62: Gradient: 2.798067582755113, Likelihood: 0.8413970574325175\n",
      "Epoch 63: Gradient: 18.490582652111698, Likelihood: 0.5\n",
      "Epoch 64: Gradient: 10.807975369516004, Likelihood: 0.6856812335465053\n",
      "Epoch 65: Gradient: 3.4990094359325767, Likelihood: 0.8919782015380601\n",
      "Epoch 66: Gradient: 18.490582652111698, Likelihood: 0.5\n",
      "Epoch 67: Gradient: 18.490582652111698, Likelihood: 0.5\n",
      "Epoch 68: Gradient: 17.180069982486483, Likelihood: 0.5331718256795361\n",
      "Epoch 69: Gradient: 18.490582652111698, Likelihood: 0.5\n",
      "Epoch 70: Gradient: 18.490582652111698, Likelihood: 0.5\n",
      "Epoch 71: Gradient: 18.815102618058862, Likelihood: 0.5\n",
      "Epoch 72: Gradient: 18.815102618058862, Likelihood: 0.5\n",
      "Epoch 73: Gradient: 18.815102618058862, Likelihood: 0.5\n",
      "Epoch 74: Gradient: 18.815102618058862, Likelihood: 0.5\n",
      "Epoch 75: Gradient: 18.49058265211166, Likelihood: 0.5000000000000012\n",
      "Epoch 76: Gradient: 18.815102618058436, Likelihood: 0.5000000000000088\n",
      "Epoch 77: Gradient: 18.490582652111698, Likelihood: 0.5\n",
      "Epoch 78: Gradient: 18.490582652111698, Likelihood: 0.5\n",
      "Epoch 79: Gradient: 18.490582652111698, Likelihood: 0.5\n",
      "Epoch 80: Gradient: 8.543740170988123, Likelihood: 0.7687666721008468\n",
      "Epoch 81: Gradient: 18.81508006796108, Likelihood: 0.5000006175301277\n",
      "Epoch 82: Gradient: 2.023453308931339, Likelihood: 0.9329605733255749\n",
      "Epoch 83: Gradient: 18.815102618058862, Likelihood: 0.5\n",
      "Epoch 84: Gradient: 18.490582652111698, Likelihood: 0.5\n",
      "Epoch 85: Gradient: 10.972434567729922, Likelihood: 0.6102398956832513\n",
      "Epoch 86: Gradient: 18.490582652111673, Likelihood: 0.5000000000000008\n",
      "Epoch 87: Gradient: 18.490582652111698, Likelihood: 0.5\n",
      "Epoch 88: Gradient: 13.745316187281995, Likelihood: 0.6043988929474042\n",
      "Epoch 89: Gradient: 18.490582652111698, Likelihood: 0.5\n",
      "Epoch 90: Gradient: 18.815102617849966, Likelihood: 0.5000000000057353\n",
      "Epoch 91: Gradient: 18.490582652111698, Likelihood: 0.5\n",
      "Epoch 92: Gradient: 18.490582652111698, Likelihood: 0.5\n",
      "Epoch 93: Gradient: 18.815102411139208, Likelihood: 0.5000000056627487\n",
      "Epoch 94: Gradient: 18.490582652111698, Likelihood: 0.5\n",
      "Epoch 95: Gradient: 3.235616394312377, Likelihood: 0.8994427668111175\n",
      "Epoch 96: Gradient: 18.490579552549892, Likelihood: 0.5000000664477348\n",
      "Epoch 97: Gradient: 18.490582651863708, Likelihood: 0.5000000000056873\n",
      "Epoch 98: Gradient: 3.8642193336123034, Likelihood: 0.806520366334715\n",
      "Epoch 99: Gradient: 18.81510261775285, Likelihood: 0.5000000000061791\n",
      "Epoch 100: Gradient: 4.227327066084114, Likelihood: 0.7631869415814622\n",
      "Epoch 101: Gradient: 18.490582652111698, Likelihood: 0.5\n",
      "Epoch 102: Gradient: 1.988197545701391, Likelihood: 0.8642385773655541\n",
      "Epoch 103: Gradient: 18.815102618058862, Likelihood: 0.5\n",
      "Epoch 104: Gradient: 6.278907225791663, Likelihood: 0.8237767294898841\n",
      "Epoch 105: Gradient: 18.815102618058777, Likelihood: 0.5000000000000027\n",
      "Epoch 106: Gradient: 18.815102618058862, Likelihood: 0.5\n",
      "Epoch 107: Gradient: 18.81510214940129, Likelihood: 0.5000000144294339\n",
      "Epoch 108: Gradient: 16.681859500339396, Likelihood: 0.5467348696959888\n",
      "Epoch 109: Gradient: 2.221098775394076, Likelihood: 0.9304488955365201\n",
      "Epoch 110: Gradient: 18.490582652111698, Likelihood: 0.5\n",
      "Epoch 111: Gradient: 13.711422122519258, Likelihood: 0.6031318599691882\n",
      "Epoch 112: Gradient: 17.025151330339597, Likelihood: 0.5314139660738159\n",
      "Epoch 113: Gradient: 3.854268959778566, Likelihood: 0.8819173782183624\n",
      "Epoch 114: Gradient: 18.46021817024835, Likelihood: 0.5008601034702082\n",
      "Epoch 115: Gradient: 18.81510261185099, Likelihood: 0.50000000012534\n",
      "Epoch 116: Gradient: 18.815102618058862, Likelihood: 0.5\n",
      "Epoch 117: Gradient: 18.490582652100592, Likelihood: 0.5000000000003709\n",
      "Epoch 118: Gradient: 6.848291026983068, Likelihood: 0.765536645337739\n",
      "Epoch 119: Gradient: 18.815102618058862, Likelihood: 0.5\n",
      "Epoch 120: Gradient: 18.490582652111627, Likelihood: 0.5000000000000024\n",
      "Epoch 121: Gradient: 9.443589747633366, Likelihood: 0.7234296622045235\n",
      "Epoch 122: Gradient: 18.490582652111353, Likelihood: 0.5000000000000111\n",
      "Epoch 123: Gradient: 8.571441762733855, Likelihood: 0.746893433412524\n",
      "Epoch 124: Gradient: 14.744009986686276, Likelihood: 0.5930095900677447\n",
      "Epoch 125: Gradient: 18.81510261805886, Likelihood: 0.5000000000000001\n",
      "Epoch 126: Gradient: 16.69293109102011, Likelihood: 0.5464680026527176\n",
      "Epoch 127: Gradient: 18.490582650252957, Likelihood: 0.500000000053542\n",
      "Epoch 128: Gradient: 14.915730659126268, Likelihood: 0.5917151345364281\n",
      "Epoch 129: Gradient: 3.2111571335493645, Likelihood: 0.9001539856440769\n",
      "Epoch 130: Gradient: 3.240170958266199, Likelihood: 0.8993156960296709\n",
      "Epoch 131: Gradient: 18.490582652111698, Likelihood: 0.5\n",
      "Epoch 132: Gradient: 10.067738115566238, Likelihood: 0.7168045804916665\n",
      "Epoch 133: Gradient: 18.490582652103953, Likelihood: 0.5000000000001656\n",
      "Epoch 134: Gradient: 16.93594876965154, Likelihood: 0.5333343634150265\n",
      "Epoch 135: Gradient: 13.13195429740202, Likelihood: 0.6335562018998925\n",
      "Epoch 136: Gradient: 18.81510140702137, Likelihood: 0.5000000244905806\n",
      "Epoch 137: Gradient: 3.3074378337808295, Likelihood: 0.896840527266376\n",
      "Epoch 138: Gradient: 18.490582652111698, Likelihood: 0.5\n",
      "Epoch 139: Gradient: 13.114771312823404, Likelihood: 0.6335783705056479\n",
      "Epoch 140: Gradient: 18.490582652111698, Likelihood: 0.5\n",
      "Epoch 141: Gradient: 11.408904702551093, Likelihood: 0.6722204723897228\n",
      "Epoch 142: Gradient: 18.490582652111698, Likelihood: 0.5\n",
      "Epoch 143: Gradient: 6.035268488130647, Likelihood: 0.8195846438416915\n",
      "Epoch 144: Gradient: 18.490582652111698, Likelihood: 0.5\n",
      "Epoch 145: Gradient: 1.5840284757068033, Likelihood: 0.881329574949556\n",
      "Epoch 146: Gradient: 17.171335742001094, Likelihood: 0.5333556702834522\n",
      "Epoch 147: Gradient: 18.81510261805773, Likelihood: 0.500000000000035\n",
      "Epoch 148: Gradient: 18.81510261805883, Likelihood: 0.500000000000001\n",
      "Epoch 149: Gradient: 18.815101221888607, Likelihood: 0.5000000431185284\n",
      "Epoch 150: Gradient: 18.815102618058248, Likelihood: 0.5000000000000169\n",
      "Epoch 151: Gradient: 2.1213525835049336, Likelihood: 0.9321935318318334\n",
      "Epoch 152: Gradient: 18.490582652111645, Likelihood: 0.5000000000000018\n",
      "Epoch 153: Gradient: 18.815102618058862, Likelihood: 0.5\n",
      "Epoch 154: Gradient: 9.698307963828109, Likelihood: 0.7326494912604394\n",
      "Epoch 155: Gradient: 18.81510261780428, Likelihood: 0.5000000000051402\n",
      "Epoch 156: Gradient: 18.490582652111698, Likelihood: 0.5000000000000001\n",
      "Epoch 157: Gradient: 17.527983845683476, Likelihood: 0.5323209403333782\n",
      "Epoch 158: Gradient: 16.9359948320672, Likelihood: 0.5333333815510081\n",
      "Epoch 159: Gradient: 18.81496800986548, Likelihood: 0.5000036836271086\n",
      "Epoch 160: Gradient: 18.815102618058862, Likelihood: 0.5\n",
      "Epoch 161: Gradient: 0.5404785077659144, Likelihood: 0.9816830632455873\n",
      "Epoch 162: Gradient: 18.815102618058702, Likelihood: 0.5000000000000032\n",
      "Epoch 163: Gradient: 18.815102618058862, Likelihood: 0.5\n",
      "Epoch 164: Gradient: 17.17220554335169, Likelihood: 0.5333322174626632\n",
      "Epoch 165: Gradient: 1.813566838019255, Likelihood: 0.8673495477351487\n",
      "Epoch 166: Gradient: 5.934020693730081, Likelihood: 0.8204614974612714\n",
      "Epoch 167: Gradient: 3.2389322900916464, Likelihood: 0.9017526515348352\n",
      "Epoch 168: Gradient: 3.1148803081180736, Likelihood: 0.9057753413224056\n",
      "Epoch 169: Gradient: 17.277885428335914, Likelihood: 0.5311774434248573\n",
      "Epoch 170: Gradient: 18.815102618057832, Likelihood: 0.5000000000000225\n",
      "Epoch 171: Gradient: 15.732467732363823, Likelihood: 0.5672245546043297\n",
      "Epoch 172: Gradient: 16.936488662866715, Likelihood: 0.5333227499718584\n",
      "Epoch 173: Gradient: 6.603651508215661, Likelihood: 0.8130793211431205\n",
      "Epoch 174: Gradient: 1.6579727025963207, Likelihood: 0.9477199527333956\n",
      "Epoch 175: Gradient: 13.816587564503727, Likelihood: 0.600156585447023\n",
      "Epoch 176: Gradient: 11.346178488867695, Likelihood: 0.6052559373796167\n",
      "Epoch 177: Gradient: 13.814946648093247, Likelihood: 0.6002030089575351\n",
      "Epoch 178: Gradient: 18.49058265195412, Likelihood: 0.5000000000033655\n",
      "Epoch 179: Gradient: 18.35618338263181, Likelihood: 0.5028713889874622\n",
      "Epoch 180: Gradient: 9.523101385665901, Likelihood: 0.72157811233245\n",
      "Epoch 181: Gradient: 18.815102618058862, Likelihood: 0.5\n",
      "Epoch 182: Gradient: 18.815102618058862, Likelihood: 0.5\n",
      "Epoch 183: Gradient: 13.629245169443294, Likelihood: 0.6336271582030126\n",
      "Epoch 184: Gradient: 18.490566905998275, Likelihood: 0.5000005152744001\n",
      "Epoch 185: Gradient: 18.49054151683846, Likelihood: 0.5000013770407267\n",
      "Epoch 186: Gradient: 4.200586152895103, Likelihood: 0.8722375359400417\n",
      "Epoch 187: Gradient: 14.697851308961855, Likelihood: 0.6009570175310596\n",
      "Epoch 188: Gradient: 13.627919180986828, Likelihood: 0.633664529569466\n",
      "Epoch 189: Gradient: 5.998203086089492, Likelihood: 0.8316160730925976\n",
      "Epoch 190: Gradient: 18.49058215256522, Likelihood: 0.5000000167227755\n",
      "Epoch 191: Gradient: 11.365723539526538, Likelihood: 0.6722170025660724\n",
      "Epoch 192: Gradient: 2.631036932880607, Likelihood: 0.9207154035517674\n",
      "Epoch 193: Gradient: 3.285402870110008, Likelihood: 0.8980230708502872\n",
      "Epoch 194: Gradient: 18.490582650551495, Likelihood: 0.500000000052229\n",
      "Epoch 195: Gradient: 4.74405790867637, Likelihood: 0.870070956953462\n",
      "Epoch 196: Gradient: 18.490582652111698, Likelihood: 0.5\n",
      "Epoch 197: Gradient: 11.556493248560312, Likelihood: 0.6671032027886987\n",
      "Epoch 198: Gradient: 1.9074394913132064, Likelihood: 0.9547502576954779\n",
      "Epoch 199: Gradient: 18.815102618058862, Likelihood: 0.5\n",
      "Epoch 200: Gradient: 1.0193725918755665, Likelihood: 0.9672183320268191\n",
      "Epoch 201: Gradient: 18.490582652111698, Likelihood: 0.5\n",
      "Epoch 202: Gradient: 12.935266635217756, Likelihood: 0.6250915883843113\n",
      "Epoch 203: Gradient: 18.692364738770642, Likelihood: 0.5024855119104538\n",
      "Epoch 204: Gradient: 18.815102618058862, Likelihood: 0.5\n",
      "Epoch 205: Gradient: 15.689577479103004, Likelihood: 0.56869550396176\n",
      "Epoch 206: Gradient: 18.49058265008139, Likelihood: 0.5000000000575275\n",
      "Epoch 207: Gradient: 18.815102618058862, Likelihood: 0.5\n",
      "Epoch 208: Gradient: 18.490582610360708, Likelihood: 0.50000000118288\n",
      "Epoch 209: Gradient: 18.8151026180513, Likelihood: 0.5000000000002071\n",
      "Epoch 210: Gradient: 3.315197488210462, Likelihood: 0.8994691569558886\n",
      "Epoch 211: Gradient: 18.33081124588526, Likelihood: 0.5097911178529758\n",
      "Epoch 212: Gradient: 0.40423577963004986, Likelihood: 0.9802607568546244\n",
      "Epoch 213: Gradient: 18.157741788904282, Likelihood: 0.5179916539985207\n",
      "Epoch 214: Gradient: 2.0850486846588483, Likelihood: 0.9335580040061049\n",
      "Epoch 215: Gradient: 18.815102618048808, Likelihood: 0.5000000000002981\n",
      "Epoch 216: Gradient: 18.815102615748593, Likelihood: 0.5000000000712274\n",
      "Epoch 217: Gradient: 18.54437568711212, Likelihood: 0.5083379460630446\n",
      "Epoch 218: Gradient: 12.793793942126324, Likelihood: 0.6290945171119967\n",
      "Epoch 219: Gradient: 3.307715718405018, Likelihood: 0.8997011537022284\n",
      "Epoch 220: Gradient: 2.981307355535946, Likelihood: 0.8939965505288053\n",
      "Epoch 221: Gradient: 15.137774167388596, Likelihood: 0.6025727789987341\n",
      "Epoch 222: Gradient: 6.272947695460737, Likelihood: 0.8237798502302607\n",
      "Epoch 223: Gradient: 11.16632405760891, Likelihood: 0.7019030752491827\n",
      "Epoch 224: Gradient: 16.93605918673887, Likelihood: 0.5333319983074727\n",
      "Epoch 225: Gradient: 2.091833409410658, Likelihood: 0.9333394654296102\n",
      "Epoch 226: Gradient: 5.456162869742547, Likelihood: 0.8441737952444316\n",
      "Epoch 227: Gradient: 2.9765801232841955, Likelihood: 0.9070684889427132\n",
      "Epoch 228: Gradient: 3.9804900217059154, Likelihood: 0.87842454504651\n",
      "Epoch 229: Gradient: 18.49058262824091, Likelihood: 0.5000000006764362\n",
      "Epoch 230: Gradient: 17.519698963710066, Likelihood: 0.5325999418140424\n",
      "Epoch 231: Gradient: 17.494555286672803, Likelihood: 0.5334344391751836\n",
      "Epoch 232: Gradient: 1.7307852263025225, Likelihood: 0.8409830670439326\n",
      "Epoch 233: Gradient: 18.815102618058862, Likelihood: 0.5\n",
      "Epoch 234: Gradient: 6.057771823098722, Likelihood: 0.8180795613947971\n",
      "Epoch 235: Gradient: 1.6026160796765805, Likelihood: 0.8767250020635461\n",
      "Epoch 236: Gradient: 5.419760683597854, Likelihood: 0.7772593435442906\n",
      "Epoch 237: Gradient: 18.490582652106568, Likelihood: 0.5000000000001453\n",
      "Epoch 238: Gradient: 18.490582650059444, Likelihood: 0.5000000000581436\n",
      "Epoch 239: Gradient: 14.831949130174886, Likelihood: 0.5972971943968306\n",
      "Epoch 240: Gradient: 12.39026281439872, Likelihood: 0.6404997273465695\n",
      "Epoch 241: Gradient: 2.2152545276050555, Likelihood: 0.9308425220099523\n",
      "Epoch 242: Gradient: 9.057603246823337, Likelihood: 0.7400916527644108\n",
      "Epoch 243: Gradient: 3.598129921586093, Likelihood: 0.889188472571067\n",
      "Epoch 244: Gradient: 18.490582652111698, Likelihood: 0.5\n",
      "Epoch 245: Gradient: 9.08689267409869, Likelihood: 0.732936844900553\n",
      "Epoch 246: Gradient: 3.25564538274333, Likelihood: 0.9012809882081396\n",
      "Epoch 247: Gradient: 18.49058265185125, Likelihood: 0.5000000000087188\n",
      "Epoch 248: Gradient: 10.75327608629769, Likelihood: 0.6886779847315179\n",
      "Epoch 249: Gradient: 6.666995533260182, Likelihood: 0.7995794085414137\n",
      "Epoch 250: Gradient: 4.695220326273339, Likelihood: 0.867799446205954\n",
      "Epoch 251: Gradient: 5.981834599034779, Likelihood: 0.8318716957938581\n",
      "Epoch 252: Gradient: 2.9569371573931083, Likelihood: 0.9108398413914636\n",
      "Epoch 253: Gradient: 2.0903299947093523, Likelihood: 0.9332972702785438\n",
      "Epoch 254: Gradient: 18.490582652111698, Likelihood: 0.5\n",
      "Epoch 255: Gradient: 2.0947435971469264, Likelihood: 0.9332553527068297\n",
      "Epoch 256: Gradient: 18.812987030016068, Likelihood: 0.5000578954411197\n",
      "Epoch 257: Gradient: 16.93587790475205, Likelihood: 0.5333367130679463\n",
      "Epoch 258: Gradient: 3.1995636535741285, Likelihood: 0.9004792944989308\n",
      "Epoch 259: Gradient: 18.49058217957739, Likelihood: 0.5000000133875542\n",
      "Epoch 260: Gradient: 13.192370199463499, Likelihood: 0.6321453929367472\n",
      "Epoch 261: Gradient: 18.490582652111698, Likelihood: 0.5\n",
      "Epoch 262: Gradient: 12.962076149418598, Likelihood: 0.6381706273171337\n",
      "Epoch 263: Gradient: 18.490582580797774, Likelihood: 0.5000000020204659\n",
      "Epoch 264: Gradient: 5.317392500193029, Likelihood: 0.8458677365677764\n",
      "Epoch 265: Gradient: 12.162320304027668, Likelihood: 0.6732734039076953\n",
      "Epoch 266: Gradient: 12.643958944637493, Likelihood: 0.63333418097212\n",
      "Epoch 267: Gradient: 0.006249479426998444, Likelihood: 0.997920584096956\n",
      "Epoch 268: Gradient: 1.4836117069631258, Likelihood: 0.9527426915938116\n",
      "Epoch 269: Gradient: 18.47677843805194, Likelihood: 0.5002948394965128\n",
      "Epoch 270: Gradient: 18.815089915008773, Likelihood: 0.5000003476336796\n",
      "Epoch 271: Gradient: 18.490582652109097, Likelihood: 0.5000000000000682\n",
      "Epoch 272: Gradient: 18.490582652111698, Likelihood: 0.5\n",
      "Epoch 273: Gradient: 5.4467276198562455, Likelihood: 0.8347984548380667\n",
      "Epoch 274: Gradient: 10.392538452123855, Likelihood: 0.6979373348618815\n",
      "Epoch 275: Gradient: 18.815102613278075, Likelihood: 0.5000000001017189\n",
      "Epoch 276: Gradient: 11.276106357446983, Likelihood: 0.6735187534838292\n",
      "Epoch 277: Gradient: 5.519878711569744, Likelihood: 0.8340013637723722\n",
      "Epoch 278: Gradient: 18.446641119528014, Likelihood: 0.5012449016046058\n",
      "Epoch 279: Gradient: 17.165331397604568, Likelihood: 0.5335207499685309\n",
      "Epoch 280: Gradient: 15.577268999340712, Likelihood: 0.5769364965315844\n",
      "Epoch 281: Gradient: 3.2490036924016694, Likelihood: 0.9014725544377246\n",
      "Epoch 282: Gradient: 15.527035490308444, Likelihood: 0.5735463316672642\n",
      "Epoch 283: Gradient: 17.172150812231823, Likelihood: 0.5333333332648632\n",
      "Epoch 284: Gradient: 6.653368927892926, Likelihood: 0.7999606761409407\n",
      "Epoch 285: Gradient: 13.155704470536799, Likelihood: 0.6329831073517899\n",
      "Epoch 286: Gradient: 2.492323357432646, Likelihood: 0.9376697058619541\n",
      "Epoch 287: Gradient: 13.678123184086367, Likelihood: 0.632249159715697\n",
      "Epoch 288: Gradient: 0.5143679426042954, Likelihood: 0.9819735588372569\n",
      "Epoch 289: Gradient: 0.7537707994633668, Likelihood: 0.9778693803580156\n",
      "Epoch 290: Gradient: 18.490582652100592, Likelihood: 0.5000000000002374\n",
      "Epoch 291: Gradient: 16.887378518469067, Likelihood: 0.5346029740190635\n",
      "Epoch 292: Gradient: 3.118056314116499, Likelihood: 0.902886816120604\n",
      "Epoch 293: Gradient: 10.388335621440191, Likelihood: 0.7146861278254965\n",
      "Epoch 294: Gradient: 3.2195178220709306, Likelihood: 0.8998943789384632\n",
      "Epoch 295: Gradient: 17.90174496615542, Likelihood: 0.5125955449955496\n",
      "Epoch 296: Gradient: 14.727906061498873, Likelihood: 0.600140594519009\n",
      "Epoch 297: Gradient: 14.610775769232983, Likelihood: 0.6033031770870334\n",
      "Epoch 298: Gradient: 12.005758753057691, Likelihood: 0.6521921704881104\n",
      "Epoch 299: Gradient: 3.277082013429319, Likelihood: 0.8982631609030153\n",
      "Epoch 300: Gradient: 12.41380727962021, Likelihood: 0.6662354345454992\n",
      "Epoch 301: Gradient: 2.0945988488986313, Likelihood: 0.9332603860890463\n",
      "Epoch 302: Gradient: 1.9806252238233009, Likelihood: 0.9408896783074676\n",
      "Epoch 303: Gradient: 5.927183886398297, Likelihood: 0.833516749593627\n",
      "Epoch 304: Gradient: 6.805098719495074, Likelihood: 0.8150699670508099\n",
      "Epoch 305: Gradient: 9.379690316285801, Likelihood: 0.7360598674175971\n",
      "Epoch 306: Gradient: 18.815085475876373, Likelihood: 0.500000468253914\n",
      "Epoch 307: Gradient: 9.085770553033983, Likelihood: 0.7329688433387833\n",
      "Epoch 308: Gradient: 6.044462607684911, Likelihood: 0.8303028476969186\n",
      "Epoch 309: Gradient: 3.218286274221782, Likelihood: 0.8999306152794089\n",
      "Epoch 310: Gradient: 0.9564411743185818, Likelihood: 0.9039703696877844\n",
      "Epoch 311: Gradient: 3.2016061427623392, Likelihood: 0.9004190128946064\n",
      "Epoch 312: Gradient: 18.490582652111698, Likelihood: 0.5000000000000001\n",
      "Epoch 313: Gradient: 14.054166178468876, Likelihood: 0.6207184547191403\n",
      "Epoch 314: Gradient: 18.814463081478028, Likelihood: 0.5000175016612075\n",
      "Epoch 315: Gradient: 16.05020193662123, Likelihood: 0.5521673029105973\n",
      "Epoch 316: Gradient: 2.134070346385933, Likelihood: 0.9330349596894808\n",
      "Epoch 317: Gradient: 3.3046122542173633, Likelihood: 0.899751004016307\n",
      "Epoch 318: Gradient: 11.81549994282333, Likelihood: 0.6602387596479827\n",
      "Epoch 319: Gradient: 15.756281489126817, Likelihood: 0.5667134489966039\n",
      "Epoch 320: Gradient: 4.079073532649256, Likelihood: 0.8756554624141881\n",
      "Epoch 321: Gradient: 18.814897284366136, Likelihood: 0.500005619189715\n",
      "Epoch 322: Gradient: 3.215649382131393, Likelihood: 0.9000042363708616\n",
      "Epoch 323: Gradient: 3.3558960579390438, Likelihood: 0.8981023316514455\n",
      "Epoch 324: Gradient: 14.510011750714055, Likelihood: 0.6059955110070987\n",
      "Epoch 325: Gradient: 1.553058962467911, Likelihood: 0.9552277946202247\n",
      "Epoch 326: Gradient: 2.097404782345859, Likelihood: 0.9331758864813344\n",
      "Epoch 327: Gradient: 3.085483771418039, Likelihood: 0.9038491260057758\n",
      "Epoch 328: Gradient: 11.458115245496264, Likelihood: 0.6684896471156441\n",
      "Epoch 329: Gradient: 18.815102618058862, Likelihood: 0.5\n",
      "Epoch 330: Gradient: 3.2155711992061726, Likelihood: 0.9000064754615228\n",
      "Epoch 331: Gradient: 12.95126945699404, Likelihood: 0.6373523848164825\n",
      "Epoch 332: Gradient: 18.32836129735882, Likelihood: 0.5102449198583333\n",
      "Epoch 333: Gradient: 6.7837231647906195, Likelihood: 0.7988317798562797\n",
      "Epoch 334: Gradient: 4.366360295850093, Likelihood: 0.8675969899949367\n",
      "Epoch 335: Gradient: 8.992504015149532, Likelihood: 0.7478425330967411\n",
      "Epoch 336: Gradient: 18.40539161491879, Likelihood: 0.5018199266649613\n",
      "Epoch 337: Gradient: 16.721078769801434, Likelihood: 0.5394137396614721\n",
      "Epoch 338: Gradient: 5.937244935824845, Likelihood: 0.8332782554773496\n",
      "Epoch 339: Gradient: 13.159829994964685, Likelihood: 0.6462834873006927\n",
      "Epoch 340: Gradient: 14.735609803370352, Likelihood: 0.5999287227437194\n",
      "Epoch 341: Gradient: 3.2972786704015884, Likelihood: 0.899986586214568\n",
      "Epoch 342: Gradient: 3.2967431039946833, Likelihood: 0.900001752057753\n",
      "Epoch 343: Gradient: 15.773360544121346, Likelihood: 0.571579731543374\n",
      "Epoch 344: Gradient: 17.458357078478727, Likelihood: 0.5275013977624625\n",
      "Epoch 345: Gradient: 15.166496875430827, Likelihood: 0.5842581952245691\n",
      "Epoch 346: Gradient: 0.10040340406071316, Likelihood: 0.9965766222626136\n",
      "Epoch 347: Gradient: 10.920343495615592, Likelihood: 0.708813341870069\n",
      "Epoch 348: Gradient: 16.51216693901852, Likelihood: 0.5629135726911917\n",
      "Epoch 349: Gradient: 4.399995907968296, Likelihood: 0.8666611872427643\n",
      "Epoch 350: Gradient: 3.2151345699257603, Likelihood: 0.9000193798153538\n",
      "Epoch 351: Gradient: 11.491280946676731, Likelihood: 0.6673527566402169\n",
      "Epoch 352: Gradient: 4.3989383904862, Likelihood: 0.8666823553460378\n",
      "Epoch 353: Gradient: 18.490582652111687, Likelihood: 0.5000000000000003\n",
      "Epoch 354: Gradient: 3.215161054202005, Likelihood: 0.9000185860001423\n",
      "Epoch 355: Gradient: 18.277965216368493, Likelihood: 0.5060239060159192\n",
      "Epoch 356: Gradient: 14.734180879991074, Likelihood: 0.5999530772470024\n",
      "Epoch 357: Gradient: 14.74335122764812, Likelihood: 0.596867593234936\n",
      "Epoch 358: Gradient: 18.49057047850943, Likelihood: 0.5000003448951923\n",
      "Epoch 359: Gradient: 13.707210409105642, Likelihood: 0.631092853565482\n",
      "Epoch 360: Gradient: 3.2201161170440966, Likelihood: 0.8998773482593797\n",
      "Epoch 361: Gradient: 12.839139787346946, Likelihood: 0.6414599836568092\n",
      "Epoch 362: Gradient: 18.81510203178633, Likelihood: 0.5000000118417857\n",
      "Epoch 363: Gradient: 12.580631682241401, Likelihood: 0.648376180215802\n",
      "Epoch 364: Gradient: 3.216594202233183, Likelihood: 0.8999774357795001\n",
      "Epoch 365: Gradient: 3.0623994765204143, Likelihood: 0.9045313167271675\n",
      "Epoch 366: Gradient: 18.815102175625604, Likelihood: 0.5000000099828331\n",
      "Epoch 367: Gradient: 2.555877546626171, Likelihood: 0.92102092680067\n",
      "Epoch 368: Gradient: 2.0873782652669233, Likelihood: 0.9345439961556753\n",
      "Epoch 369: Gradient: 0.006440374741149977, Likelihood: 0.9991636337338758\n",
      "Epoch 370: Gradient: 0.07528744214485136, Likelihood: 0.9974676160417534\n",
      "Epoch 371: Gradient: 0.34189680747035806, Likelihood: 0.9890938195055494\n",
      "Epoch 372: Gradient: 8.47956354490446, Likelihood: 0.7571831040723164\n",
      "Epoch 373: Gradient: 2.9922570458602813, Likelihood: 0.9066047804303222\n",
      "Epoch 374: Gradient: 3.2967422925500403, Likelihood: 0.9000016427787573\n",
      "Epoch 375: Gradient: 3.215977294425061, Likelihood: 0.8999947134220352\n",
      "Epoch 376: Gradient: 5.286833288350202, Likelihood: 0.8443301566492387\n",
      "Epoch 377: Gradient: 0.008810025068140818, Likelihood: 0.9990201363681391\n",
      "Epoch 378: Gradient: 1.3084654114434389, Likelihood: 0.9583953822940624\n",
      "Epoch 379: Gradient: 2.0902622140783174, Likelihood: 0.9333929460071589\n",
      "Epoch 380: Gradient: 2.0919046244627046, Likelihood: 0.9333416363126772\n",
      "Epoch 381: Gradient: 2.8038989797312435, Likelihood: 0.9121780232480294\n",
      "Epoch 382: Gradient: 5.9019481267204785, Likelihood: 0.8342770218634964\n",
      "Epoch 383: Gradient: 12.290613157766547, Likelihood: 0.6697718967751765\n",
      "Epoch 384: Gradient: 16.75456067468861, Likelihood: 0.5565262533808011\n",
      "Epoch 385: Gradient: 1.2705171179306547, Likelihood: 0.9594927224614984\n",
      "Epoch 386: Gradient: 8.43168928397823, Likelihood: 0.7755105680488845\n",
      "Epoch 387: Gradient: 18.490582652042463, Likelihood: 0.5000000000014838\n",
      "Epoch 388: Gradient: 9.693068105637355, Likelihood: 0.7169561804466067\n",
      "Epoch 389: Gradient: 18.490582651111968, Likelihood: 0.5000000000283238\n",
      "Epoch 390: Gradient: 4.276582346907566, Likelihood: 0.8701137384916919\n",
      "Epoch 391: Gradient: 5.937276986371245, Likelihood: 0.8332979649780144\n",
      "Epoch 392: Gradient: 17.685045298951078, Likelihood: 0.5309267300471103\n",
      "Epoch 393: Gradient: 3.2418496720117274, Likelihood: 0.8992613461991942\n",
      "Epoch 394: Gradient: 2.0916441564039143, Likelihood: 0.9333457700916998\n",
      "Epoch 395: Gradient: 2.7082505786260134, Likelihood: 0.9166749910410552\n",
      "Epoch 396: Gradient: 2.1086793324663837, Likelihood: 0.93381836731202\n",
      "Epoch 397: Gradient: 18.81389163622519, Likelihood: 0.5000275462644732\n",
      "Epoch 398: Gradient: 6.921143861416089, Likelihood: 0.800177545646844\n",
      "Epoch 399: Gradient: 4.396509495009354, Likelihood: 0.8667524954075855\n",
      "Epoch 400: Gradient: 10.56875590605301, Likelihood: 0.706467025730715\n",
      "Epoch 401: Gradient: 14.72769586253516, Likelihood: 0.6001610956800002\n",
      "Epoch 402: Gradient: 4.416053502868422, Likelihood: 0.8663006246836572\n",
      "Epoch 403: Gradient: 9.116946148038291, Likelihood: 0.7445779376087841\n",
      "Epoch 404: Gradient: 14.912058005819533, Likelihood: 0.59563054778502\n",
      "Epoch 405: Gradient: 1.2845731654265633, Likelihood: 0.9633060297540895\n",
      "Epoch 406: Gradient: 3.2080604920075486, Likelihood: 0.9028888433791047\n",
      "Epoch 407: Gradient: 3.145185077680366, Likelihood: 0.9045509176770958\n",
      "Epoch 408: Gradient: 17.144123930591153, Likelihood: 0.5340997612734542\n",
      "Epoch 409: Gradient: 13.540818516685023, Likelihood: 0.636138275262852\n",
      "Epoch 410: Gradient: 4.76130848290581, Likelihood: 0.8542922956176854\n",
      "Epoch 411: Gradient: 11.55169359173017, Likelihood: 0.6656073818070993\n",
      "Epoch 412: Gradient: 5.814646569994418, Likelihood: 0.8362740876952223\n",
      "Epoch 413: Gradient: 16.933123767796253, Likelihood: 0.5334146264364719\n",
      "Epoch 414: Gradient: 3.6053677296729365, Likelihood: 0.8889845723924001\n",
      "Epoch 415: Gradient: 14.665483197612112, Likelihood: 0.6020782473724325\n",
      "Epoch 416: Gradient: 4.397095518499664, Likelihood: 0.8667367165299521\n",
      "Epoch 417: Gradient: 8.973915970430493, Likelihood: 0.7426453531146975\n",
      "Epoch 418: Gradient: 1.8513634589810948, Likelihood: 0.9417219065408596\n",
      "Epoch 419: Gradient: 2.4478630506316987, Likelihood: 0.9227401507347317\n",
      "Epoch 420: Gradient: 17.988872638606463, Likelihood: 0.5142150486910881\n",
      "Epoch 421: Gradient: 2.092046832707122, Likelihood: 0.9333362048273909\n",
      "Epoch 422: Gradient: 3.249941738799279, Likelihood: 0.8991719780784331\n",
      "Epoch 423: Gradient: 13.673473679723704, Likelihood: 0.6324232063448612\n",
      "Epoch 424: Gradient: 6.229818575973577, Likelihood: 0.8257296028621347\n",
      "Epoch 425: Gradient: 11.84114121081514, Likelihood: 0.6818349298272002\n",
      "Epoch 426: Gradient: 15.688094993590362, Likelihood: 0.5680810142957767\n",
      "Epoch 427: Gradient: 2.023465747044424, Likelihood: 0.9355226928624728\n",
      "Epoch 428: Gradient: 17.739568948785823, Likelihood: 0.5217977558377547\n",
      "Epoch 429: Gradient: 10.7525488538528, Likelihood: 0.687910367477091\n",
      "Epoch 430: Gradient: 18.49058265211095, Likelihood: 0.5000000000000211\n",
      "Epoch 431: Gradient: 0.4309334179637116, Likelihood: 0.9862868994114528\n",
      "Epoch 432: Gradient: 10.962835611877813, Likelihood: 0.6910400484249337\n",
      "Epoch 433: Gradient: 14.524923094105917, Likelihood: 0.6037563486081169\n",
      "Epoch 434: Gradient: 2.1132038951060763, Likelihood: 0.9327039794876465\n",
      "Epoch 435: Gradient: 3.4525048598720534, Likelihood: 0.893299971676112\n",
      "Epoch 436: Gradient: 2.094495892352408, Likelihood: 0.9332628099654448\n",
      "Epoch 437: Gradient: 1.9837995704401463, Likelihood: 0.9324795115846656\n",
      "Epoch 438: Gradient: 15.760613178747468, Likelihood: 0.5665886067919873\n",
      "Epoch 439: Gradient: 0.49826329348465226, Likelihood: 0.9178743533782959\n",
      "Epoch 440: Gradient: 5.95450418689145, Likelihood: 0.8328090209598938\n",
      "Epoch 441: Gradient: 3.2145315080181507, Likelihood: 0.9000372950227467\n",
      "Epoch 442: Gradient: 6.41276822147654, Likelihood: 0.8198882381725509\n",
      "Epoch 443: Gradient: 13.641064358137942, Likelihood: 0.6333222610602152\n",
      "Epoch 444: Gradient: 2.0781749517204777, Likelihood: 0.9337779505918341\n",
      "Epoch 445: Gradient: 5.868517946137081, Likelihood: 0.8352012572938051\n",
      "Epoch 446: Gradient: 9.775685677724935, Likelihood: 0.7382013340337138\n",
      "Epoch 447: Gradient: 18.490579902499654, Likelihood: 0.5000000587418005\n",
      "Epoch 448: Gradient: 17.969527760306118, Likelihood: 0.5231410383836801\n",
      "Epoch 449: Gradient: 3.1892967491008957, Likelihood: 0.9007824050723208\n",
      "Epoch 450: Gradient: 16.3893261195494, Likelihood: 0.5488002278798364\n",
      "Epoch 451: Gradient: 13.725204681975663, Likelihood: 0.6300990712415869\n",
      "Epoch 452: Gradient: 12.633052099851989, Likelihood: 0.6336564550057695\n",
      "Epoch 453: Gradient: 5.935701246753241, Likelihood: 0.8333439790727666\n",
      "Epoch 454: Gradient: 2.4601619642714394, Likelihood: 0.9223712592013016\n",
      "Epoch 455: Gradient: 14.63711716260501, Likelihood: 0.6000217396607364\n",
      "Epoch 456: Gradient: 2.0977978525286365, Likelihood: 0.9331641581006708\n",
      "Epoch 457: Gradient: 13.25330863702619, Likelihood: 0.6404810407778736\n",
      "Epoch 458: Gradient: 18.57605743132685, Likelihood: 0.5065418211681051\n",
      "Epoch 459: Gradient: 11.308689307263077, Likelihood: 0.6815397652487556\n",
      "Epoch 460: Gradient: 14.63420447389733, Likelihood: 0.6001059703314644\n",
      "Epoch 461: Gradient: 2.5093465926522773, Likelihood: 0.9209104787164698\n",
      "Epoch 462: Gradient: 1.0979905546989852, Likelihood: 0.9335816178078661\n",
      "Epoch 463: Gradient: 15.70265355115189, Likelihood: 0.5735114517697879\n",
      "Epoch 464: Gradient: 4.8775281795045045, Likelihood: 0.8625754784828762\n",
      "Epoch 465: Gradient: 13.572938352708343, Likelihood: 0.6352802374696812\n",
      "Epoch 466: Gradient: 0.8702266527513596, Likelihood: 0.9720034898589822\n",
      "Epoch 467: Gradient: 3.2857944858981587, Likelihood: 0.9003111669236833\n",
      "Epoch 468: Gradient: 14.733046378333068, Likelihood: 0.5999989006782658\n",
      "Epoch 469: Gradient: 15.75432239653404, Likelihood: 0.5667717077075015\n",
      "Epoch 470: Gradient: 2.0920315940034424, Likelihood: 0.9333365303506072\n",
      "Epoch 471: Gradient: 18.808764502741766, Likelihood: 0.5001734501956064\n",
      "Epoch 472: Gradient: 15.658132937463924, Likelihood: 0.5687794326585747\n",
      "Epoch 473: Gradient: 15.757713846388786, Likelihood: 0.5666708466523723\n",
      "Epoch 474: Gradient: 15.757655966900012, Likelihood: 0.5666725643001163\n",
      "Epoch 475: Gradient: 15.75789692319196, Likelihood: 0.5666654783229562\n",
      "Epoch 476: Gradient: 14.62792772082462, Likelihood: 0.6003319022067615\n",
      "Epoch 477: Gradient: 3.2967922635130313, Likelihood: 0.9000003166139919\n",
      "Epoch 478: Gradient: 15.218233834804915, Likelihood: 0.582718705101995\n",
      "Epoch 479: Gradient: 1.0497816391786554, Likelihood: 0.9662903448078055\n",
      "Epoch 480: Gradient: 1.5882251565389447, Likelihood: 0.9466794842063525\n",
      "Epoch 481: Gradient: 12.402291886191566, Likelihood: 0.6665355532534929\n",
      "Epoch 482: Gradient: 5.4696904940510285, Likelihood: 0.8462227279846745\n",
      "Epoch 483: Gradient: 6.294370928618945, Likelihood: 0.8242271138470568\n",
      "Epoch 484: Gradient: 15.395563290164368, Likelihood: 0.5970036123070097\n",
      "Epoch 485: Gradient: 8.381540878505321, Likelihood: 0.7772214893829117\n",
      "Epoch 486: Gradient: 11.951762639670287, Likelihood: 0.6795859777396724\n",
      "Epoch 487: Gradient: 2.016920322474695, Likelihood: 0.9357305986160721\n",
      "Epoch 488: Gradient: 2.0907694505211114, Likelihood: 0.9333768811561148\n",
      "Epoch 489: Gradient: 14.56694901695573, Likelihood: 0.604410634838479\n",
      "Epoch 490: Gradient: 3.2790586148490237, Likelihood: 0.8982069457288688\n",
      "Epoch 491: Gradient: 15.724737311812914, Likelihood: 0.5676515748757986\n",
      "Epoch 492: Gradient: 11.20755300083935, Likelihood: 0.7029407842858736\n",
      "Epoch 493: Gradient: 5.402007837571189, Likelihood: 0.8446102687603861\n",
      "Epoch 494: Gradient: 0.5163385409197626, Likelihood: 0.9853523691273567\n",
      "Epoch 495: Gradient: 6.548095336376503, Likelihood: 0.8156216238870715\n",
      "Epoch 496: Gradient: 4.400466813696473, Likelihood: 0.8666466200759946\n",
      "Epoch 497: Gradient: 11.466084448128303, Likelihood: 0.6680704469216775\n",
      "Epoch 498: Gradient: 3.215506391475076, Likelihood: 0.9000083936756831\n",
      "Epoch 499: Gradient: 18.489722416260097, Likelihood: 0.5000243716767447\n",
      "Epoch 500: Gradient: 7.941073829603094, Likelihood: 0.7766449617587007\n",
      "Epoch 501: Gradient: 3.2111164201938394, Likelihood: 0.900140694339897\n",
      "Epoch 502: Gradient: 13.680423638133696, Likelihood: 0.6109537534108637\n",
      "Epoch 503: Gradient: 12.381313415329437, Likelihood: 0.6671421340649945\n",
      "Epoch 504: Gradient: 10.578463000553374, Likelihood: 0.7175472556787834\n",
      "Epoch 505: Gradient: 15.759247828060898, Likelihood: 0.5666265590288515\n",
      "Epoch 506: Gradient: 3.2948932594007676, Likelihood: 0.8999571423727872\n",
      "Epoch 507: Gradient: 12.227513557850092, Likelihood: 0.6712471159560924\n",
      "Epoch 508: Gradient: 2.092348291052914, Likelihood: 0.9333269703038254\n",
      "Epoch 509: Gradient: 3.202921289570284, Likelihood: 0.900380029061622\n",
      "Epoch 510: Gradient: 1.7975382557685569, Likelihood: 0.9471427427777676\n",
      "Epoch 511: Gradient: 10.871751851408849, Likelihood: 0.6852979606724141\n",
      "Epoch 512: Gradient: 15.757713846373322, Likelihood: 0.5666708478516037\n",
      "Epoch 513: Gradient: 2.0769044574644746, Likelihood: 0.939103030055078\n",
      "Epoch 514: Gradient: 0.23890467549214867, Likelihood: 0.9922983920797406\n",
      "Epoch 515: Gradient: 0.006719349934767615, Likelihood: 0.9995399125548815\n",
      "Epoch 516: Gradient: 0.004149185617516505, Likelihood: 0.9995724079975263\n",
      "Epoch 517: Gradient: 0.0041006366919693745, Likelihood: 0.9995730099327426\n",
      "Epoch 518: Gradient: 0.0038119021579163742, Likelihood: 0.9995760679526234\n",
      "Epoch 519: Gradient: 0.004340671124052022, Likelihood: 0.9995713573372611\n",
      "Epoch 520: Gradient: 0.004903340992221202, Likelihood: 0.9995655330067431\n",
      "Epoch 521: Gradient: 0.004136282140236917, Likelihood: 0.9995738563040887\n",
      "Epoch 522: Gradient: 0.004341915646370224, Likelihood: 0.9995722069130977\n",
      "Epoch 523: Gradient: 0.008506536447478277, Likelihood: 0.9995130934565911\n",
      "Epoch 524: Gradient: 0.00399736044171062, Likelihood: 0.9995762169885422\n",
      "Epoch 525: Gradient: 0.008376752765393318, Likelihood: 0.9995158716332504\n",
      "Epoch 526: Gradient: 0.0059512680188426575, Likelihood: 0.9995541469673445\n",
      "Epoch 527: Gradient: 0.008834490048289286, Likelihood: 0.9995083288513762\n",
      "Epoch 528: Gradient: 0.003754169716123956, Likelihood: 0.9995797394942288\n",
      "Epoch 529: Gradient: 0.0037846503431392766, Likelihood: 0.999579976296977\n",
      "Epoch 530: Gradient: 0.008255300047845127, Likelihood: 0.9995195448128498\n",
      "Epoch 531: Gradient: 0.00375429715670485, Likelihood: 0.9995807852715567\n",
      "Epoch 532: Gradient: 0.007501956047683217, Likelihood: 0.9995328175313177\n",
      "Epoch 533: Gradient: 0.003950812064591943, Likelihood: 0.9995796719331788\n",
      "Epoch 534: Gradient: 0.004725956921417802, Likelihood: 0.9995719009389837\n",
      "Epoch 535: Gradient: 0.004723395153000004, Likelihood: 0.9995722333554803\n",
      "Epoch 536: Gradient: 0.0038407749233705926, Likelihood: 0.9995817118025564\n",
      "Epoch 537: Gradient: 0.0038212087575731223, Likelihood: 0.9995822762652858\n",
      "Epoch 538: Gradient: 0.0037295350953493104, Likelihood: 0.9995832293360106\n",
      "Epoch 539: Gradient: 0.0051954874758410995, Likelihood: 0.9995680476333408\n",
      "Epoch 540: Gradient: 0.008326812098206028, Likelihood: 0.9995211267982234\n",
      "Epoch 541: Gradient: 0.005639022237199844, Likelihood: 0.999563083361967\n",
      "Epoch 542: Gradient: 0.008336439920795986, Likelihood: 0.999521563900983\n",
      "Epoch 543: Gradient: 0.0036181615208910702, Likelihood: 0.9995860999730007\n",
      "Epoch 544: Gradient: 0.0037061861451485345, Likelihood: 0.9995856813982714\n",
      "Epoch 545: Gradient: 0.0036428770660139856, Likelihood: 0.9995863659013037\n",
      "Epoch 546: Gradient: 0.0040126369517181, Likelihood: 0.9995833103388141\n",
      "Epoch 547: Gradient: 0.004497830123380214, Likelihood: 0.9995785824555572\n",
      "Epoch 548: Gradient: 0.007888039220804261, Likelihood: 0.9995309253536008\n",
      "Epoch 549: Gradient: 0.005392367835643177, Likelihood: 0.9995686673979682\n",
      "Epoch 550: Gradient: 0.008063748372610535, Likelihood: 0.9995285048717039\n",
      "Epoch 551: Gradient: 0.005276774543682468, Likelihood: 0.9995707729426682\n",
      "Epoch 552: Gradient: 0.008035963483591342, Likelihood: 0.9995295772248369\n",
      "Epoch 553: Gradient: 0.0035922245118855055, Likelihood: 0.9995894124362127\n",
      "Epoch 554: Gradient: 0.0035615449490204714, Likelihood: 0.9995900453813766\n",
      "Epoch 555: Gradient: 0.003457057659518889, Likelihood: 0.9995910598545402\n",
      "Epoch 556: Gradient: 0.0070180233005434165, Likelihood: 0.9995474403630262\n",
      "Epoch 557: Gradient: 0.00703171030058496, Likelihood: 0.9995475488491977\n",
      "Epoch 558: Gradient: 0.00343179292583648, Likelihood: 0.9995922875719796\n",
      "Epoch 559: Gradient: 0.0038519092182211154, Likelihood: 0.9995888903672352\n",
      "Epoch 560: Gradient: 0.007434838298309606, Likelihood: 0.9995418259033908\n",
      "Epoch 561: Gradient: 0.0035104271419307467, Likelihood: 0.9995925233483156\n",
      "Epoch 562: Gradient: 0.0034521912017678965, Likelihood: 0.9995933821278791\n",
      "Epoch 563: Gradient: 0.0033586627086571743, Likelihood: 0.9995945323701942\n",
      "Epoch 564: Gradient: 0.007280278320866735, Likelihood: 0.9995454448868007\n",
      "Epoch 565: Gradient: 0.0034605193039754724, Likelihood: 0.9995941851719871\n",
      "Epoch 566: Gradient: 0.004872172780732419, Likelihood: 0.999580019088537\n",
      "Epoch 567: Gradient: 0.0075141650239175534, Likelihood: 0.9995423680946877\n",
      "Epoch 568: Gradient: 0.003125330471761633, Likelihood: 0.9995979068391704\n",
      "Epoch 569: Gradient: 0.0032636818171920524, Likelihood: 0.999596893881698\n",
      "Epoch 570: Gradient: 0.006778537984067543, Likelihood: 0.9995549546694169\n",
      "Epoch 571: Gradient: 0.003407919997110731, Likelihood: 0.9995963754715509\n",
      "Epoch 572: Gradient: 0.007116903706605935, Likelihood: 0.9995500938911646\n",
      "Epoch 573: Gradient: 0.0033307621246684415, Likelihood: 0.9995974736376763\n",
      "Epoch 574: Gradient: 0.006715159183839791, Likelihood: 0.999556960205051\n",
      "Epoch 575: Gradient: 0.004738837017552274, Likelihood: 0.9995841424630183\n",
      "Epoch 576: Gradient: 0.0047476720526941334, Likelihood: 0.9995843647408135\n",
      "Epoch 577: Gradient: 0.0032606305286561345, Likelihood: 0.9995993025202417\n",
      "Epoch 578: Gradient: 0.0030172546192306624, Likelihood: 0.9996017091709513\n",
      "Epoch 579: Gradient: 0.006961342823501901, Likelihood: 0.9995544887096159\n",
      "Epoch 580: Gradient: 0.0032733274167126374, Likelihood: 0.9996001551532571\n",
      "Epoch 581: Gradient: 0.0031995093057301076, Likelihood: 0.9996011019706154\n",
      "Epoch 582: Gradient: 0.004729103203220582, Likelihood: 0.9995862315671198\n",
      "Epoch 583: Gradient: 0.00713015471762429, Likelihood: 0.9995528214946693\n",
      "Epoch 584: Gradient: 0.0028495389334519355, Likelihood: 0.9996047051396427\n",
      "Epoch 585: Gradient: 0.0067504738965194905, Likelihood: 0.9995593355598292\n",
      "Epoch 586: Gradient: 0.0032124351582842408, Likelihood: 0.9996023651534647\n",
      "Epoch 587: Gradient: 0.003126816754017108, Likelihood: 0.999603392906317\n",
      "Epoch 588: Gradient: 0.0030470245114926236, Likelihood: 0.9996041179869782\n",
      "Epoch 589: Gradient: 0.004391833692024836, Likelihood: 0.9995919187876754\n",
      "Epoch 590: Gradient: 0.004170462975335877, Likelihood: 0.9995945453124463\n",
      "Epoch 591: Gradient: 0.0030162808709667146, Likelihood: 0.9996054191686541\n",
      "Epoch 592: Gradient: 0.006649070877326153, Likelihood: 0.9995626851079505\n",
      "Epoch 593: Gradient: 0.006578973442873723, Likelihood: 0.9995639936412345\n",
      "Epoch 594: Gradient: 0.003119309209362954, Likelihood: 0.9996053454733281\n",
      "Epoch 595: Gradient: 0.004576883660531216, Likelihood: 0.9995914385932431\n",
      "Epoch 596: Gradient: 0.004606870536216086, Likelihood: 0.9995914069327789\n",
      "Epoch 597: Gradient: 0.003035202486755103, Likelihood: 0.9996069752923656\n",
      "Epoch 598: Gradient: 0.006607410379366926, Likelihood: 0.9995648689947878\n",
      "Epoch 599: Gradient: 0.002974776013283668, Likelihood: 0.999607925903677\n",
      "Epoch 600: Gradient: 0.006513570951961244, Likelihood: 0.9995667354460096\n",
      "Epoch 601: Gradient: 0.0030446122074403413, Likelihood: 0.9996078610779221\n",
      "Epoch 602: Gradient: 0.006462696122429675, Likelihood: 0.9995679237936519\n",
      "Epoch 603: Gradient: 0.002568332697698774, Likelihood: 0.9996118753888978\n",
      "Epoch 604: Gradient: 0.006385937920307429, Likelihood: 0.9995695692513408\n",
      "Epoch 605: Gradient: 0.006342338223944552, Likelihood: 0.9995705059885457\n",
      "Epoch 606: Gradient: 0.004076995895655095, Likelihood: 0.9995998122117536\n",
      "Epoch 607: Gradient: 0.0044742072465362645, Likelihood: 0.9995958130596977\n",
      "Epoch 608: Gradient: 0.0040181903077980575, Likelihood: 0.9996009711113433\n",
      "Epoch 609: Gradient: 0.0039797381494568115, Likelihood: 0.9996016084177646\n",
      "Epoch 610: Gradient: 0.002843600970123202, Likelihood: 0.9996117141346441\n",
      "Epoch 611: Gradient: 0.006168669640801065, Likelihood: 0.9995745464745729\n",
      "Epoch 612: Gradient: 0.00244512438581219, Likelihood: 0.9996151517451612\n",
      "Epoch 613: Gradient: 0.0026847735356658516, Likelihood: 0.9996136206335912\n",
      "Epoch 614: Gradient: 0.0028122448112430725, Likelihood: 0.9996129394878462\n",
      "Epoch 615: Gradient: 0.003933155451020359, Likelihood: 0.9996035545306167\n",
      "Epoch 616: Gradient: 0.006409410159090485, Likelihood: 0.9995721177005734\n",
      "Epoch 617: Gradient: 0.006310680175302575, Likelihood: 0.9995738314950404\n",
      "Epoch 618: Gradient: 0.003993228214152769, Likelihood: 0.9996037296000496\n",
      "Epoch 619: Gradient: 0.006312031109924527, Likelihood: 0.9995743236194107\n",
      "Epoch 620: Gradient: 0.006243700072087189, Likelihood: 0.9995755628604251\n",
      "Epoch 621: Gradient: 0.002983643804072058, Likelihood: 0.9996134896951983\n",
      "Epoch 622: Gradient: 0.006052351148812727, Likelihood: 0.9995788810552626\n",
      "Epoch 623: Gradient: 0.0028291445508595576, Likelihood: 0.9996152925460514\n",
      "Epoch 624: Gradient: 0.0026428296954186786, Likelihood: 0.9996169361698761\n",
      "Epoch 625: Gradient: 0.003689121274098565, Likelihood: 0.9996084674727008\n",
      "Epoch 626: Gradient: 0.0027398726298693415, Likelihood: 0.9996167692750706\n",
      "Epoch 627: Gradient: 0.006011379638917866, Likelihood: 0.999580632040766\n",
      "Epoch 628: Gradient: 0.006043475959808294, Likelihood: 0.9995804344212024\n",
      "Epoch 629: Gradient: 0.0028831044777574743, Likelihood: 0.9996163568717296\n",
      "Epoch 630: Gradient: 0.005922809830093197, Likelihood: 0.9995826324419311\n",
      "Epoch 631: Gradient: 0.002199655897051886, Likelihood: 0.999621626557808\n",
      "Epoch 632: Gradient: 0.003677573615092472, Likelihood: 0.9996103586075089\n",
      "Epoch 633: Gradient: 0.0037839878558781647, Likelihood: 0.9996095512229835\n",
      "Epoch 634: Gradient: 0.00420852289287233, Likelihood: 0.9996054299379104\n",
      "Epoch 635: Gradient: 0.002563705184400345, Likelihood: 0.9996201410809178\n",
      "Epoch 636: Gradient: 0.002629021785169808, Likelihood: 0.9996199187925547\n",
      "Epoch 637: Gradient: 0.002296248110512552, Likelihood: 0.9996225176058581\n",
      "Epoch 638: Gradient: 0.0025735344166396756, Likelihood: 0.9996209934648825\n",
      "Epoch 639: Gradient: 0.005805791470193292, Likelihood: 0.9995863602432485\n",
      "Epoch 640: Gradient: 0.002849167697435394, Likelihood: 0.9996193327361548\n",
      "Epoch 641: Gradient: 0.003014028706760483, Likelihood: 0.9996183829512703\n",
      "Epoch 642: Gradient: 0.005789760877478484, Likelihood: 0.9995872051478719\n",
      "Epoch 643: Gradient: 0.005924425033957194, Likelihood: 0.9995855298260381\n",
      "Epoch 644: Gradient: 0.002041322680955807, Likelihood: 0.9996257464691655\n",
      "Epoch 645: Gradient: 0.005685685574933224, Likelihood: 0.9995893772351152\n",
      "Epoch 646: Gradient: 0.0020256529399540657, Likelihood: 0.9996263177260529\n",
      "Epoch 647: Gradient: 0.003571810155315057, Likelihood: 0.9996149403649587\n",
      "Epoch 648: Gradient: 0.005765425159008428, Likelihood: 0.9995888844648193\n",
      "Epoch 649: Gradient: 0.0025935606078427535, Likelihood: 0.9996233949497331\n",
      "Epoch 650: Gradient: 0.002392071044578502, Likelihood: 0.9996248305903049\n",
      "Epoch 651: Gradient: 0.0025273775879281596, Likelihood: 0.9996241441380271\n",
      "Epoch 652: Gradient: 0.005636899262746308, Likelihood: 0.9995914864361392\n",
      "Epoch 653: Gradient: 0.0025831857039806004, Likelihood: 0.9996243230376277\n",
      "Epoch 654: Gradient: 0.0023709524453198903, Likelihood: 0.9996260180380355\n",
      "Epoch 655: Gradient: 0.003536366620789815, Likelihood: 0.99961698705748\n",
      "Epoch 656: Gradient: 0.0036409322621616526, Likelihood: 0.9996162070179976\n",
      "Epoch 657: Gradient: 0.00565319112070793, Likelihood: 0.9995922785061844\n",
      "Epoch 658: Gradient: 0.005848537076590588, Likelihood: 0.9995896941178583\n",
      "Epoch 659: Gradient: 0.002493016593509353, Likelihood: 0.9996262705490214\n",
      "Epoch 660: Gradient: 0.002244277696959666, Likelihood: 0.9996279513221188\n",
      "Epoch 661: Gradient: 0.002090365005980045, Likelihood: 0.9996292359730927\n",
      "Epoch 662: Gradient: 0.0038782791244070837, Likelihood: 0.999615139762654\n",
      "Epoch 663: Gradient: 0.003633887142859375, Likelihood: 0.9996177828518248\n",
      "Epoch 664: Gradient: 0.0022959522810711347, Likelihood: 0.9996285578272643\n",
      "Epoch 665: Gradient: 0.0034162299908396896, Likelihood: 0.9996202770734826\n",
      "Epoch 666: Gradient: 0.0024100109351380718, Likelihood: 0.9996284717993361\n",
      "Epoch 667: Gradient: 0.0023559664763837286, Likelihood: 0.9996290833644053\n",
      "Epoch 668: Gradient: 0.005394153423841501, Likelihood: 0.9995981851354159\n",
      "Epoch 669: Gradient: 0.0026317055207559937, Likelihood: 0.9996275092420152\n",
      "Epoch 670: Gradient: 0.001972760537370643, Likelihood: 0.9996320440391231\n",
      "Epoch 671: Gradient: 0.003304762780061622, Likelihood: 0.9996226609703227\n",
      "Epoch 672: Gradient: 0.002363833292803834, Likelihood: 0.9996301724029417\n",
      "Epoch 673: Gradient: 0.00532697461485889, Likelihood: 0.9996001482494477\n",
      "Epoch 674: Gradient: 0.0031729009054363377, Likelihood: 0.999624531210042\n",
      "Epoch 675: Gradient: 0.003393076165520555, Likelihood: 0.9996227762566386\n",
      "Epoch 676: Gradient: 0.0053608826062838495, Likelihood: 0.9996003197378668\n",
      "Epoch 677: Gradient: 0.001714965602212494, Likelihood: 0.9996349552317493\n",
      "Epoch 678: Gradient: 0.0037220194457141466, Likelihood: 0.9996203115651877\n",
      "Epoch 679: Gradient: 0.0035316389559373594, Likelihood: 0.9996223643278893\n",
      "Epoch 680: Gradient: 0.0038380632700845147, Likelihood: 0.9996195794489673\n",
      "Epoch 681: Gradient: 0.002210540232074799, Likelihood: 0.9996332314755698\n",
      "Epoch 682: Gradient: 0.005265711570834901, Likelihood: 0.9996029089260553\n",
      "Epoch 683: Gradient: 0.0016604529820001893, Likelihood: 0.9996366296800502\n",
      "Epoch 684: Gradient: 0.0021885788791228527, Likelihood: 0.9996340530055627\n",
      "Epoch 685: Gradient: 0.005156824554839239, Likelihood: 0.9996050004683632\n",
      "Epoch 686: Gradient: 0.002998690040848794, Likelihood: 0.9996287200158783\n",
      "Epoch 687: Gradient: 0.005174163197793227, Likelihood: 0.9996051891011725\n",
      "Epoch 688: Gradient: 0.005489010988623442, Likelihood: 0.9996010824606497\n",
      "Epoch 689: Gradient: 0.005502756922734469, Likelihood: 0.9996010764929676\n",
      "Epoch 690: Gradient: 0.0025856826433707726, Likelihood: 0.9996325830993488\n",
      "Epoch 691: Gradient: 0.002551304806727325, Likelihood: 0.9996331263727392\n",
      "Epoch 692: Gradient: 0.003349836243899983, Likelihood: 0.9996268402838219\n",
      "Epoch 693: Gradient: 0.002218368114395036, Likelihood: 0.9996357655987962\n",
      "Epoch 694: Gradient: 0.005052958977873123, Likelihood: 0.9996081230665491\n",
      "Epoch 695: Gradient: 0.0014521653957482899, Likelihood: 0.999640128464287\n",
      "Epoch 696: Gradient: 0.005016651232271464, Likelihood: 0.999608976781607\n",
      "Epoch 697: Gradient: 0.00153806450664753, Likelihood: 0.9996401817931962\n",
      "Epoch 698: Gradient: 0.004993942589476768, Likelihood: 0.9996096586819885\n",
      "Epoch 699: Gradient: 0.0015299033704735982, Likelihood: 0.9996406372514409\n",
      "Epoch 700: Gradient: 0.0030725759265920064, Likelihood: 0.9996309250291309\n",
      "Epoch 701: Gradient: 0.0033560495245207812, Likelihood: 0.9996286052704713\n",
      "Epoch 702: Gradient: 0.005004533831405486, Likelihood: 0.9996102458515819\n",
      "Epoch 703: Gradient: 0.0028708762341294065, Likelihood: 0.9996331871397074\n",
      "Epoch 704: Gradient: 0.00201556988038996, Likelihood: 0.9996392578814006\n",
      "Epoch 705: Gradient: 0.002074123194015197, Likelihood: 0.9996391561895674\n",
      "Epoch 706: Gradient: 0.003547489774878848, Likelihood: 0.9996278948030423\n",
      "Epoch 707: Gradient: 0.0019348482470776822, Likelihood: 0.9996402421405064\n",
      "Epoch 708: Gradient: 0.005078440807273639, Likelihood: 0.9996105181245717\n",
      "Epoch 709: Gradient: 0.005365658666914239, Likelihood: 0.9996068051183508\n",
      "Epoch 710: Gradient: 0.0027769490319846284, Likelihood: 0.9996354331940086\n",
      "Epoch 711: Gradient: 0.004946903528049741, Likelihood: 0.9996128223267494\n",
      "Epoch 712: Gradient: 0.001417083750899817, Likelihood: 0.9996438701853485\n",
      "Epoch 713: Gradient: 0.001854148156290613, Likelihood: 0.9996419153840596\n",
      "Epoch 714: Gradient: 0.0026050688331410474, Likelihood: 0.9996374704330326\n",
      "Epoch 715: Gradient: 0.0034036804509349756, Likelihood: 0.9996310181968008\n",
      "Epoch 716: Gradient: 0.004833605193310781, Likelihood: 0.9996151822364108\n",
      "Epoch 717: Gradient: 0.0051740694423494495, Likelihood: 0.9996109197559611\n",
      "Epoch 718: Gradient: 0.0023964788997229655, Likelihood: 0.9996396424350275\n",
      "Epoch 719: Gradient: 0.0029034383545557805, Likelihood: 0.9996362136718274\n",
      "Epoch 720: Gradient: 0.0035332091860104365, Likelihood: 0.9996308105060613\n",
      "Epoch 721: Gradient: 0.0019477855243496731, Likelihood: 0.9996432043686012\n",
      "Epoch 722: Gradient: 0.0018135666299634364, Likelihood: 0.999643995942536\n",
      "Epoch 723: Gradient: 0.004882003722917985, Likelihood: 0.9996159422081765\n",
      "Epoch 724: Gradient: 0.0020938243233525797, Likelihood: 0.9996428976803501\n",
      "Epoch 725: Gradient: 0.004774173035146221, Likelihood: 0.9996176407424465\n",
      "Epoch 726: Gradient: 0.0012025032860974922, Likelihood: 0.9996474822009318\n",
      "Epoch 727: Gradient: 0.0018724961793478542, Likelihood: 0.999644754758751\n",
      "Epoch 728: Gradient: 0.0047366479656059425, Likelihood: 0.9996186797084324\n",
      "Epoch 729: Gradient: 0.005076531276820046, Likelihood: 0.9996144633285703\n",
      "Epoch 730: Gradient: 0.005105951751740282, Likelihood: 0.9996142681216352\n",
      "Epoch 731: Gradient: 0.005102655368841458, Likelihood: 0.999614511682806\n",
      "Epoch 732: Gradient: 0.005139352475959846, Likelihood: 0.9996141825730408\n",
      "Epoch 733: Gradient: 0.002387708775683621, Likelihood: 0.999642712862966\n",
      "Epoch 734: Gradient: 0.002124471312577618, Likelihood: 0.9996445925786647\n",
      "Epoch 735: Gradient: 0.0028015890687520272, Likelihood: 0.999640177662723\n",
      "Epoch 736: Gradient: 0.0019490809117496191, Likelihood: 0.9996461557283118\n",
      "Epoch 737: Gradient: 0.003028877698290203, Likelihood: 0.9996386905873932\n",
      "Epoch 738: Gradient: 0.0017152662725234823, Likelihood: 0.9996476252741802\n",
      "Epoch 739: Gradient: 0.0047922224703083145, Likelihood: 0.9996199948402773\n",
      "Epoch 740: Gradient: 0.001197101623345739, Likelihood: 0.9996502978542952\n",
      "Epoch 741: Gradient: 0.003090246958128047, Likelihood: 0.9996389123670736\n",
      "Epoch 742: Gradient: 0.003132879684172149, Likelihood: 0.999638708427757\n",
      "Epoch 743: Gradient: 0.0034280739738190382, Likelihood: 0.9996361920085471\n",
      "Epoch 744: Gradient: 0.0034483105609062746, Likelihood: 0.9996361981845556\n",
      "Epoch 745: Gradient: 0.001666077459559985, Likelihood: 0.9996492274892067\n",
      "Epoch 746: Gradient: 0.0027707488142731484, Likelihood: 0.9996424999274898\n",
      "Epoch 747: Gradient: 0.003220380546666073, Likelihood: 0.999638886812894\n",
      "Epoch 748: Gradient: 0.0030117853258879827, Likelihood: 0.999640884786287\n",
      "Epoch 749: Gradient: 0.0032790563422474, Likelihood: 0.9996387105662614\n",
      "Epoch 750: Gradient: 0.0019066435231463344, Likelihood: 0.9996490700258261\n",
      "Epoch 751: Gradient: 0.0032581849824940366, Likelihood: 0.9996393081377334\n",
      "Epoch 752: Gradient: 0.001894994515622344, Likelihood: 0.9996495496334972\n",
      "Epoch 753: Gradient: 0.004402661124712663, Likelihood: 0.9996273823812847\n",
      "Epoch 754: Gradient: 0.002201354589461204, Likelihood: 0.999647976025354\n",
      "Epoch 755: Gradient: 0.004658431389019775, Likelihood: 0.9996245629127188\n",
      "Epoch 756: Gradient: 0.0022167379043677863, Likelihood: 0.9996482266297768\n",
      "Epoch 757: Gradient: 0.004636814688762276, Likelihood: 0.9996251796317278\n",
      "Epoch 758: Gradient: 0.004912608308495782, Likelihood: 0.9996218191258138\n",
      "Epoch 759: Gradient: 0.0022787462858660833, Likelihood: 0.9996483932832352\n",
      "Epoch 760: Gradient: 0.002147638343712422, Likelihood: 0.9996494877376648\n",
      "Epoch 761: Gradient: 0.004327411429930856, Likelihood: 0.9996296100533583\n",
      "Epoch 762: Gradient: 0.0010789417441397612, Likelihood: 0.999654858560778\n",
      "Epoch 763: Gradient: 0.004341977616622478, Likelihood: 0.9996297712181514\n",
      "Epoch 764: Gradient: 0.004905497468784537, Likelihood: 0.999622842143073\n",
      "Epoch 765: Gradient: 0.004814854922448762, Likelihood: 0.9996242195765773\n",
      "Epoch 766: Gradient: 0.0010024151130849474, Likelihood: 0.9996558241995659\n",
      "Epoch 767: Gradient: 0.0016032269836427173, Likelihood: 0.9996536007676095\n",
      "Epoch 768: Gradient: 0.0013273897879260536, Likelihood: 0.9996550670424366\n",
      "Epoch 769: Gradient: 0.004272745797796411, Likelihood: 0.999631594510271\n",
      "Epoch 770: Gradient: 0.002416548894363823, Likelihood: 0.9996494834548248\n",
      "Epoch 771: Gradient: 0.004224741598829363, Likelihood: 0.9996325051847585\n",
      "Epoch 772: Gradient: 0.001864150806602442, Likelihood: 0.999653222280003\n",
      "Epoch 773: Gradient: 0.004217956017979037, Likelihood: 0.9996328611931187\n",
      "Epoch 774: Gradient: 0.004739465134908492, Likelihood: 0.9996266271880486\n",
      "Epoch 775: Gradient: 0.002192592261688693, Likelihood: 0.9996518155155426\n",
      "Epoch 776: Gradient: 0.004185921630596455, Likelihood: 0.9996337456242774\n",
      "Epoch 777: Gradient: 0.0022721141622386756, Likelihood: 0.9996516480762911\n",
      "Epoch 778: Gradient: 0.0031646789810858803, Likelihood: 0.9996448275738661\n",
      "Epoch 779: Gradient: 0.0031017405272527727, Likelihood: 0.9996455750537047\n",
      "Epoch 780: Gradient: 0.0014598739564469511, Likelihood: 0.9996565384912702\n",
      "Epoch 781: Gradient: 0.004387121510619106, Likelihood: 0.9996321998740254\n",
      "Epoch 782: Gradient: 0.0008200111749754835, Likelihood: 0.9996591198988096\n",
      "Epoch 783: Gradient: 0.002964510160060632, Likelihood: 0.9996474321228743\n",
      "Epoch 784: Gradient: 0.004102244960493787, Likelihood: 0.9996360378554302\n",
      "Epoch 785: Gradient: 0.0046559404028794485, Likelihood: 0.9996294975240532\n",
      "Epoch 786: Gradient: 0.001597279458006424, Likelihood: 0.9996569859636874\n",
      "Epoch 787: Gradient: 0.001611642651817717, Likelihood: 0.9996571031597914\n",
      "Epoch 788: Gradient: 0.004103531490504177, Likelihood: 0.9996366345929879\n",
      "Epoch 789: Gradient: 0.004621739720812735, Likelihood: 0.9996305351540543\n",
      "Epoch 790: Gradient: 0.004721036186244728, Likelihood: 0.9996294388333997\n",
      "Epoch 791: Gradient: 0.0017113776561447965, Likelihood: 0.9996572724553003\n",
      "Epoch 792: Gradient: 0.004058913867209247, Likelihood: 0.9996377577879482\n",
      "Epoch 793: Gradient: 0.002275314895992336, Likelihood: 0.9996542981781806\n",
      "Epoch 794: Gradient: 0.002923549866731894, Likelihood: 0.9996495520994866\n",
      "Epoch 795: Gradient: 0.0016945132543266796, Likelihood: 0.9996580567716772\n",
      "Epoch 796: Gradient: 0.0040244818317257776, Likelihood: 0.999638823977154\n",
      "Epoch 797: Gradient: 0.001966395672021153, Likelihood: 0.9996568047415197\n",
      "Epoch 798: Gradient: 0.004304226793560492, Likelihood: 0.9996358750937416\n",
      "Epoch 799: Gradient: 0.0017349404438862532, Likelihood: 0.9996584733406458\n",
      "Epoch 800: Gradient: 0.001318884805730241, Likelihood: 0.9996604263743049\n",
      "Epoch 801: Gradient: 0.001072103907857393, Likelihood: 0.9996615514875221\n",
      "Epoch 802: Gradient: 0.004013310257380759, Likelihood: 0.9996398159168176\n",
      "Epoch 803: Gradient: 0.001989621365914497, Likelihood: 0.9996575677200208\n",
      "Epoch 804: Gradient: 0.0018062002742093726, Likelihood: 0.9996587554503437\n",
      "Epoch 805: Gradient: 0.0016802206622720667, Likelihood: 0.9996595611110405\n",
      "Epoch 806: Gradient: 0.00424552649396134, Likelihood: 0.9996376907964076\n",
      "Epoch 807: Gradient: 0.0008116255138132169, Likelihood: 0.999663208849351\n",
      "Epoch 808: Gradient: 0.0012944824545071836, Likelihood: 0.999661863548389\n",
      "Epoch 809: Gradient: 0.003936335829334538, Likelihood: 0.9996417274180166\n",
      "Epoch 810: Gradient: 0.004447911803791257, Likelihood: 0.9996358594342095\n",
      "Epoch 811: Gradient: 0.0016549070224138032, Likelihood: 0.9996607301970841\n",
      "Epoch 812: Gradient: 0.003994367208091113, Likelihood: 0.9996414967721522\n",
      "Epoch 813: Gradient: 0.004435595152135641, Likelihood: 0.9996364280203172\n",
      "Epoch 814: Gradient: 0.001994453370022862, Likelihood: 0.9996593820632703\n",
      "Epoch 815: Gradient: 0.0038678523184544505, Likelihood: 0.999643379894016\n",
      "Epoch 816: Gradient: 0.004440522998286814, Likelihood: 0.9996368180430562\n",
      "Epoch 817: Gradient: 0.0007214167245186098, Likelihood: 0.9996650271400082\n",
      "Epoch 818: Gradient: 0.0013558355505765716, Likelihood: 0.9996632230858011\n",
      "Epoch 819: Gradient: 0.0038541764572437623, Likelihood: 0.9996441503245758\n",
      "Epoch 820: Gradient: 0.000642115304029929, Likelihood: 0.9996656763395161\n",
      "Epoch 821: Gradient: 0.003908166492616488, Likelihood: 0.9996438377848076\n",
      "Epoch 822: Gradient: 0.0016640160965838236, Likelihood: 0.9996623985367371\n",
      "Epoch 823: Gradient: 0.0012263629084133029, Likelihood: 0.9996643525337922\n",
      "Epoch 824: Gradient: 0.0009727464383455197, Likelihood: 0.9996654222498011\n",
      "Epoch 825: Gradient: 0.0038692057533119928, Likelihood: 0.9996447709102559\n",
      "Epoch 826: Gradient: 0.004465421572353116, Likelihood: 0.9996378538602005\n",
      "Epoch 827: Gradient: 0.000689780516817521, Likelihood: 0.9996665517918779\n",
      "Epoch 828: Gradient: 0.0038638763814994805, Likelihood: 0.9996452333153013\n",
      "Epoch 829: Gradient: 0.0019605677122691936, Likelihood: 0.9996617821931547\n",
      "Epoch 830: Gradient: 0.002924284543352693, Likelihood: 0.9996549395575783\n",
      "Epoch 831: Gradient: 0.0014089070910263141, Likelihood: 0.9996649093034332\n",
      "Epoch 832: Gradient: 0.002655445352648779, Likelihood: 0.9996574786949053\n",
      "Epoch 833: Gradient: 0.0038014371851896535, Likelihood: 0.999646677238601\n",
      "Epoch 834: Gradient: 0.0005873385013148032, Likelihood: 0.999667841641723\n",
      "Epoch 835: Gradient: 0.0038303754119193563, Likelihood: 0.9996466317377916\n",
      "Epoch 836: Gradient: 0.0043582441835469206, Likelihood: 0.9996405936430208\n",
      "Epoch 837: Gradient: 0.0019903970258516746, Likelihood: 0.9996628189285943\n",
      "Epoch 838: Gradient: 0.0014413280003080357, Likelihood: 0.9996658317726915\n",
      "Epoch 839: Gradient: 0.002619227201149366, Likelihood: 0.9996587971660884\n",
      "Epoch 840: Gradient: 0.002768572260253619, Likelihood: 0.9996577519841464\n",
      "Epoch 841: Gradient: 0.0036318502139225293, Likelihood: 0.999649643305488\n",
      "Epoch 842: Gradient: 0.0016564756111593368, Likelihood: 0.9996653742136276\n",
      "Epoch 843: Gradient: 0.003776390275278281, Likelihood: 0.9996483395267187\n",
      "Epoch 844: Gradient: 0.0018584397507508286, Likelihood: 0.9996644935126897\n",
      "Epoch 845: Gradient: 0.0007882621885477956, Likelihood: 0.9996690383495702\n",
      "Epoch 846: Gradient: 0.003743899237189708, Likelihood: 0.9996490832960022\n",
      "Epoch 847: Gradient: 0.001582262849079333, Likelihood: 0.9996664071556751\n",
      "Epoch 848: Gradient: 0.0013805201414221879, Likelihood: 0.9996674702421142\n",
      "Epoch 849: Gradient: 0.003640326690351348, Likelihood: 0.9996505797475972\n",
      "Epoch 850: Gradient: 0.001591823419334461, Likelihood: 0.9996667647993195\n",
      "Epoch 851: Gradient: 0.002785238891923853, Likelihood: 0.9996590461087143\n",
      "Epoch 852: Gradient: 0.0027867578019134765, Likelihood: 0.9996591520361945\n",
      "Epoch 853: Gradient: 0.002946003366428707, Likelihood: 0.9996579474332896\n",
      "Epoch 854: Gradient: 0.002778737975674725, Likelihood: 0.9996595199689454\n",
      "Epoch 855: Gradient: 0.0027988326208038504, Likelihood: 0.999659499981594\n",
      "Epoch 856: Gradient: 0.0035292490943683347, Likelihood: 0.9996526681490372\n",
      "Epoch 857: Gradient: 0.004217299504702926, Likelihood: 0.9996450691997972\n",
      "Epoch 858: Gradient: 0.004242472111853514, Likelihood: 0.9996449133750857\n",
      "Epoch 859: Gradient: 0.004343189997053634, Likelihood: 0.9996438256928708\n",
      "Epoch 860: Gradient: 0.004236815659885222, Likelihood: 0.9996452788324371\n",
      "Epoch 861: Gradient: 0.0005362876598286959, Likelihood: 0.999671805293371\n",
      "Epoch 862: Gradient: 0.0012903107070369813, Likelihood: 0.9996697457586118\n",
      "Epoch 863: Gradient: 0.0020824675013602703, Likelihood: 0.9996658807442265\n",
      "Epoch 864: Gradient: 0.0013700742417232657, Likelihood: 0.9996697926666598\n",
      "Epoch 865: Gradient: 0.0011289059880424496, Likelihood: 0.9996708650744051\n",
      "Epoch 866: Gradient: 0.002287928105910161, Likelihood: 0.999664930553125\n",
      "Epoch 867: Gradient: 0.001417496268669031, Likelihood: 0.9996699961688414\n",
      "Epoch 868: Gradient: 0.002682212057960162, Likelihood: 0.9996622627430253\n",
      "Epoch 869: Gradient: 0.0014213277154640318, Likelihood: 0.9996702865442885\n",
      "Epoch 870: Gradient: 0.0013046021871936041, Likelihood: 0.9996709202378511\n",
      "Epoch 871: Gradient: 0.002538344509157217, Likelihood: 0.9996638295978287\n",
      "Epoch 872: Gradient: 0.0009364455781033031, Likelihood: 0.9996723831738151\n",
      "Epoch 873: Gradient: 0.0009443918233381154, Likelihood: 0.9996725591335388\n",
      "Epoch 874: Gradient: 0.003560107516987864, Likelihood: 0.9996547597738843\n",
      "Epoch 875: Gradient: 0.0018158388059617966, Likelihood: 0.9996690076166908\n",
      "Epoch 876: Gradient: 0.0008247974647102911, Likelihood: 0.9996732628821029\n",
      "Epoch 877: Gradient: 0.003502167572859462, Likelihood: 0.9996557411838501\n",
      "Epoch 878: Gradient: 0.001884431308955476, Likelihood: 0.999669124032737\n",
      "Epoch 879: Gradient: 0.0034394536501870182, Likelihood: 0.9996566311980111\n",
      "Epoch 880: Gradient: 0.0018681642244204307, Likelihood: 0.999669474026268\n",
      "Epoch 881: Gradient: 0.0009295814962352198, Likelihood: 0.9996735769975565\n",
      "Epoch 882: Gradient: 0.002124718797991823, Likelihood: 0.9996681456078023\n",
      "Epoch 883: Gradient: 0.0025571636630975472, Likelihood: 0.9996651717645533\n",
      "Epoch 884: Gradient: 0.003328916576942653, Likelihood: 0.9996583372392857\n",
      "Epoch 885: Gradient: 0.0017499160189477074, Likelihood: 0.9996707398901703\n",
      "Epoch 886: Gradient: 0.001292586880541393, Likelihood: 0.99967302214335\n",
      "Epoch 887: Gradient: 0.0022359510801574843, Likelihood: 0.9996680011756219\n",
      "Epoch 888: Gradient: 0.003321975573843631, Likelihood: 0.9996588782578811\n",
      "Epoch 889: Gradient: 0.0018369414937898945, Likelihood: 0.9996707514183443\n",
      "Epoch 890: Gradient: 0.0024868846951704073, Likelihood: 0.9996665554002089\n",
      "Epoch 891: Gradient: 0.0026382638784830164, Likelihood: 0.9996654882909668\n",
      "Epoch 892: Gradient: 0.002829458783317283, Likelihood: 0.999664031263231\n",
      "Epoch 893: Gradient: 0.000791392085192051, Likelihood: 0.9996754212461858\n",
      "Epoch 894: Gradient: 0.003593358056561855, Likelihood: 0.999656790795823\n",
      "Epoch 895: Gradient: 0.0016505966324012735, Likelihood: 0.9996723793062416\n",
      "Epoch 896: Gradient: 0.003709198395494632, Likelihood: 0.9996557785101763\n",
      "Epoch 897: Gradient: 0.0018001383340833501, Likelihood: 0.999671823267706\n",
      "Epoch 898: Gradient: 0.0017666472558438898, Likelihood: 0.9996721941360056\n",
      "Epoch 899: Gradient: 0.002447636974078649, Likelihood: 0.999667905392326\n",
      "Epoch 900: Gradient: 0.0032464843737878704, Likelihood: 0.9996610040430006\n",
      "Epoch 901: Gradient: 0.00036553757822096355, Likelihood: 0.9996771918193467\n",
      "Epoch 902: Gradient: 0.0022330513283876415, Likelihood: 0.999669770455189\n",
      "Epoch 903: Gradient: 0.003238025615662364, Likelihood: 0.9996614014107289\n",
      "Epoch 904: Gradient: 0.0039759332390216715, Likelihood: 0.9996536147609573\n",
      "Epoch 905: Gradient: 0.0017025462150107502, Likelihood: 0.9996733634381809\n",
      "Epoch 906: Gradient: 0.003284620187301613, Likelihood: 0.999661307228873\n",
      "Epoch 907: Gradient: 0.0015871516449543622, Likelihood: 0.999674193331673\n",
      "Epoch 908: Gradient: 0.0008937144009082646, Likelihood: 0.9996769202378689\n",
      "Epoch 909: Gradient: 0.0017503129162836425, Likelihood: 0.9996735275262209\n",
      "Epoch 910: Gradient: 0.0026383341548802753, Likelihood: 0.9996676518714197\n",
      "Epoch 911: Gradient: 0.0031564981337199047, Likelihood: 0.9996630791245793\n",
      "Epoch 912: Gradient: 0.0039019847360099325, Likelihood: 0.9996553441618382\n",
      "Epoch 913: Gradient: 0.00037475310828160435, Likelihood: 0.999678572298646\n",
      "Epoch 914: Gradient: 0.0010406883978387497, Likelihood: 0.9996772277345399\n",
      "Epoch 915: Gradient: 0.001107236184967901, Likelihood: 0.9996771366202849\n",
      "Epoch 916: Gradient: 0.0032633274306101516, Likelihood: 0.9996626293008486\n",
      "Epoch 917: Gradient: 0.003976104932181485, Likelihood: 0.9996550319900411\n",
      "Epoch 918: Gradient: 0.004086260092695078, Likelihood: 0.9996538149335596\n",
      "Epoch 919: Gradient: 0.0012925980943591195, Likelihood: 0.9996768210514148\n",
      "Epoch 920: Gradient: 0.0023768493862048813, Likelihood: 0.9996707352655068\n",
      "Epoch 921: Gradient: 0.0007460228236562657, Likelihood: 0.9996787228791347\n",
      "Epoch 922: Gradient: 0.0019688793936255646, Likelihood: 0.9996736632472658\n",
      "Epoch 923: Gradient: 0.000793153498175478, Likelihood: 0.9996787819238475\n",
      "Epoch 924: Gradient: 0.003484880542063244, Likelihood: 0.9996610972464943\n",
      "Epoch 925: Gradient: 0.0016687644575076226, Likelihood: 0.9996756787356796\n",
      "Epoch 926: Gradient: 0.00116863446026564, Likelihood: 0.9996780345716711\n",
      "Epoch 927: Gradient: 0.0033172865974583905, Likelihood: 0.999663177745125\n",
      "Epoch 928: Gradient: 0.0015897116292663035, Likelihood: 0.9996763539619734\n",
      "Epoch 929: Gradient: 0.0019695780295472514, Likelihood: 0.9996744447419982\n",
      "Epoch 930: Gradient: 0.0031044198832089974, Likelihood: 0.9996655616372825\n",
      "Epoch 931: Gradient: 0.001703477952094173, Likelihood: 0.9996761937094616\n",
      "Epoch 932: Gradient: 0.002213310150336416, Likelihood: 0.9996731686477571\n",
      "Epoch 933: Gradient: 0.0012495312744196516, Likelihood: 0.9996785064477137\n",
      "Epoch 934: Gradient: 0.0032794259926947063, Likelihood: 0.9996642904732396\n",
      "Epoch 935: Gradient: 0.00039088440415199126, Likelihood: 0.999680946298344\n",
      "Epoch 936: Gradient: 0.0032974456147248665, Likelihood: 0.9996643178009337\n",
      "Epoch 937: Gradient: 0.001394424823647424, Likelihood: 0.9996783103918779\n",
      "Epoch 938: Gradient: 0.0025022306216767364, Likelihood: 0.9996716842748161\n",
      "Epoch 939: Gradient: 0.0030251798093086, Likelihood: 0.9996672204405667\n",
      "Epoch 940: Gradient: 0.0017186913070023958, Likelihood: 0.9996770520762508\n",
      "Epoch 941: Gradient: 0.003083447852377205, Likelihood: 0.9996668895950299\n",
      "Epoch 942: Gradient: 0.0014713215394779847, Likelihood: 0.9996784198113006\n",
      "Epoch 943: Gradient: 0.0034904349644482853, Likelihood: 0.9996630201220483\n",
      "Epoch 944: Gradient: 0.00126145152245862, Likelihood: 0.9996795733056353\n",
      "Epoch 945: Gradient: 0.003146671423391911, Likelihood: 0.9996666357997819\n",
      "Epoch 946: Gradient: 0.0004024458030205143, Likelihood: 0.9996820239096207\n",
      "Epoch 947: Gradient: 0.0009815652267739596, Likelihood: 0.9996808056982582\n",
      "Epoch 948: Gradient: 0.0007220706485346934, Likelihood: 0.9996816724287052\n",
      "Epoch 949: Gradient: 0.0032016981713014632, Likelihood: 0.9996664937872913\n",
      "Epoch 950: Gradient: 0.0014940999585449737, Likelihood: 0.9996791621485338\n",
      "Epoch 951: Gradient: 0.0007272996085443418, Likelihood: 0.9996819049818916\n",
      "Epoch 952: Gradient: 0.0007668956403214415, Likelihood: 0.9996819570476961\n",
      "Epoch 953: Gradient: 0.0021509119176051643, Likelihood: 0.9996756777410859\n",
      "Epoch 954: Gradient: 0.002570485818123752, Likelihood: 0.9996727037575658\n",
      "Epoch 955: Gradient: 0.0005853930868268163, Likelihood: 0.9996826036141447\n",
      "Epoch 956: Gradient: 0.0018853576317864223, Likelihood: 0.9996776601269433\n",
      "Epoch 957: Gradient: 0.0006998994406337659, Likelihood: 0.9996825491051418\n",
      "Epoch 958: Gradient: 0.0007535729095417585, Likelihood: 0.9996825690434687\n",
      "Epoch 959: Gradient: 0.0019436467166615028, Likelihood: 0.999677568132385\n",
      "Epoch 960: Gradient: 0.0022077371397345447, Likelihood: 0.9996759261727274\n",
      "Epoch 961: Gradient: 0.002931509312127306, Likelihood: 0.9996701228894952\n",
      "Epoch 962: Gradient: 0.0036901030210624874, Likelihood: 0.9996625660779246\n",
      "Epoch 963: Gradient: 0.00014813759028268976, Likelihood: 0.9996838753761524\n",
      "Epoch 964: Gradient: 0.0008429086456444552, Likelihood: 0.9996829060568623\n",
      "Epoch 965: Gradient: 0.0021887438759142087, Likelihood: 0.9996765570156608\n",
      "Epoch 966: Gradient: 0.0011625052715322245, Likelihood: 0.9996821118653662\n",
      "Epoch 967: Gradient: 0.0022652913734861925, Likelihood: 0.9996762444352283\n",
      "Epoch 968: Gradient: 0.002875333550906929, Likelihood: 0.9996713446749951\n",
      "Epoch 969: Gradient: 0.0036140618911800725, Likelihood: 0.999664113960494\n",
      "Epoch 970: Gradient: 0.0010271985229882076, Likelihood: 0.9996829614065175\n",
      "Epoch 971: Gradient: 0.002998210238325112, Likelihood: 0.9996704930988645\n",
      "Epoch 972: Gradient: 0.0014768786267800608, Likelihood: 0.9996812887930571\n",
      "Epoch 973: Gradient: 0.0034535469531172995, Likelihood: 0.999666154462147\n",
      "Epoch 974: Gradient: 0.0037717069054458803, Likelihood: 0.9996627651599747\n",
      "Epoch 975: Gradient: 0.001485010382366822, Likelihood: 0.9996816112856509\n",
      "Epoch 976: Gradient: 0.0007377366029367836, Likelihood: 0.999684303655929\n",
      "Epoch 977: Gradient: 0.0018598686695001558, Likelihood: 0.9996797752824574\n",
      "Epoch 978: Gradient: 0.0011051615443362867, Likelihood: 0.9996834452231002\n",
      "Epoch 979: Gradient: 0.0030230727859765663, Likelihood: 0.9996709742740477\n",
      "Epoch 980: Gradient: 0.0015525746688818684, Likelihood: 0.9996817429793057\n",
      "Epoch 981: Gradient: 0.002080790326283995, Likelihood: 0.999678773472554\n",
      "Epoch 982: Gradient: 0.0009198114999264674, Likelihood: 0.9996844178234928\n",
      "Epoch 983: Gradient: 0.0007933370391071982, Likelihood: 0.9996848079434434\n",
      "Epoch 984: Gradient: 0.0006663325361485947, Likelihood: 0.9996852503424241\n",
      "Epoch 985: Gradient: 0.0020371233642068154, Likelihood: 0.9996794421173973\n",
      "Epoch 986: Gradient: 0.001142286592307655, Likelihood: 0.9996840655164483\n",
      "Epoch 987: Gradient: 0.0021244545882458388, Likelihood: 0.9996790523249666\n",
      "Epoch 988: Gradient: 0.0029668808190539075, Likelihood: 0.9996723194331328\n",
      "Epoch 989: Gradient: 0.0013294043007543, Likelihood: 0.9996835787086374\n",
      "Epoch 990: Gradient: 0.002163363929450139, Likelihood: 0.9996790207577896\n",
      "Epoch 991: Gradient: 0.0011662604805817538, Likelihood: 0.9996844068591891\n",
      "Epoch 992: Gradient: 0.0008569362806709964, Likelihood: 0.9996854460933403\n",
      "Epoch 993: Gradient: 0.0032038976874777607, Likelihood: 0.9996704424635712\n",
      "Epoch 994: Gradient: 0.003731188847739372, Likelihood: 0.9996649475325703\n",
      "Epoch 995: Gradient: 0.0037054290690341197, Likelihood: 0.9996653309186778\n",
      "Epoch 996: Gradient: 0.003802672594873035, Likelihood: 0.9996642894679307\n",
      "Epoch 997: Gradient: 0.0014157327338278744, Likelihood: 0.9996839072456066\n",
      "Epoch 998: Gradient: 0.0010513339538259754, Likelihood: 0.9996854433408923\n",
      "Epoch 999: Gradient: 0.002890023115903993, Likelihood: 0.9996739502165682\n",
      "epochs: 999, weights: [    4.43896527 -3569.29031077  3730.24615474], likelihood: 0.9996739502165682: \n"
     ]
    },
    {
     "data": {
      "text/plain": [
       "array([    4.43896527, -3569.29031077,  3730.24615474])"
      ]
     },
     "execution_count": 184,
     "metadata": {},
     "output_type": "execute_result"
    }
   ],
   "source": [
    "w = fit_stoch(X_norm, y, verbose=True)\n",
    "w"
   ]
  },
  {
   "cell_type": "code",
   "execution_count": 185,
   "id": "executed-history",
   "metadata": {},
   "outputs": [
    {
     "name": "stdout",
     "output_type": "stream",
     "text": [
      "Restored weights [4.438965273354079, -0.04652056449363953, 0.7022300743110158]\n",
      "Weights with y set to 1 [6.3212406243200485, -0.06624689855284623, 1.0]\n"
     ]
    }
   ],
   "source": [
    "w = [w[i] / maxima[i] for i in range(len(w))]\n",
    "print(\"Restored weights\", w)\n",
    "w = [w[j] / w[-1] for j in range(len(w))]\n",
    "print(\"Weights with y set to 1\", w)"
   ]
  },
  {
   "cell_type": "markdown",
   "id": "contemporary-correlation",
   "metadata": {},
   "source": [
    "### Visualizing the results"
   ]
  },
  {
   "cell_type": "code",
   "execution_count": 186,
   "id": "headed-award",
   "metadata": {},
   "outputs": [
    {
     "data": {
      "image/png": "[encoded data removed]",
      "text/plain": [
       "<Figure size 640x480 with 1 Axes>"
      ]
     },
     "metadata": {},
     "output_type": "display_data"
    }
   ],
   "source": [
    "plt.scatter(x_fr, y_fr, color='red')\n",
    "plt.scatter(x_en, y_en, color='blue')\n",
    "plt.plot([min(x_fr + x_en), max(x_fr + x_en)],\n",
    "         [-w[1] * min(x_fr + x_en) - w[0], -w[1] * max(x_fr + x_en) - w[0]])\n",
    "plt.show()"
   ]
  },
  {
   "cell_type": "markdown",
   "id": "exclusive-database",
   "metadata": {},
   "source": [
    "### Evaluation\n",
    "Evaluate your logistic regression using the leave-one-out cross validation method as with the perceptron"
   ]
  },
  {
   "cell_type": "code",
   "execution_count": 187,
   "id": "indoor-truck",
   "metadata": {},
   "outputs": [],
   "source": [
    "# Write your code here\n",
    "def leave_one_out_cross_val(X, y, fitting_function):\n",
    "    score = 0\n",
    "    n_samples = len(X)\n",
    "    for i in range(n_samples):\n",
    "        X_train = np.delete(X, i, axis=0)\n",
    "        y_train = np.delete(y, i, axis=0)\n",
    "        X_test = X[i].reshape(1, -1)\n",
    "        y_test = y[i]\n",
    "        \n",
    "        w = fitting_function(X_train, y_train)\n",
    "        \n",
    "        y_pred = predict(X_test, w)\n",
    "            \n",
    "        if y_pred == y_test:\n",
    "            score += 1\n",
    "            \n",
    "    return score / n_samples"
   ]
  },
  {
   "cell_type": "code",
   "execution_count": 188,
   "id": "strong-alaska",
   "metadata": {},
   "outputs": [
    {
     "name": "stdout",
     "output_type": "stream",
     "text": [
      "epochs: 36, weights: [-2.6500e+03 -3.1555e+05  4.7618e+06], likelihood: 1.0: \n",
      "epochs: 95, weights: [-1.6500e+03 -8.3890e+05  1.2729e+07], likelihood: 1.0: \n",
      "epochs: 76, weights: [ 2.350000e+03 -6.802500e+05  1.029835e+07], likelihood: 1.0: \n",
      "epochs: 163, weights: [ 1.95000e+03 -1.37225e+06  2.07650e+07], likelihood: 1.0: \n",
      "epochs: 128, weights: [-2.150000e+03 -1.111850e+06  1.683795e+07], likelihood: 1.0: \n",
      "epochs: 98, weights: [-9.500000e+02 -8.654000e+05  1.315015e+07], likelihood: 1.0: \n",
      "epochs: 17, weights: [-9.50000e+02 -1.60450e+05  2.43545e+06], likelihood: 1.0: \n",
      "epochs: 85, weights: [-1.250000e+03 -6.938500e+05  1.052085e+07], likelihood: 1.0: \n"
     ]
    },
    {
     "name": "stderr",
     "output_type": "stream",
     "text": [
      "/var/folders/5q/1zq3861n3pj6h6_5rdgnv_tm0000gn/T/ipykernel_43947/3012075495.py:3: RuntimeWarning: overflow encountered in exp\n",
      "  return 1 / (1 + np.exp(-x))\n"
     ]
    },
    {
     "name": "stdout",
     "output_type": "stream",
     "text": [
      "epochs: 106, weights: [-4.500000e+02 -9.299500e+05  1.416075e+07], likelihood: 1.0: \n",
      "epochs: 175, weights: [-1.95000e+03 -1.54140e+06  2.32529e+07], likelihood: 1.0: \n",
      "epochs: 37, weights: [-6.50000e+02 -3.30150e+05  4.98485e+06], likelihood: 1.0: \n",
      "epochs: 17, weights: [-5.0000e+01 -1.6290e+05  2.4706e+06], likelihood: 1.0: \n",
      "epochs: 75, weights: [-5.35000e+03 -6.01750e+05  9.13095e+06], likelihood: 1.0: \n",
      "epochs: 218, weights: [-1.36500e+04 -1.83595e+06  2.77488e+07], likelihood: 1.0: \n",
      "epochs: 181, weights: [ 1.15000e+03 -1.49360e+06  2.26974e+07], likelihood: 1.0: \n",
      "epochs: 160, weights: [-1.250000e+03 -1.388350e+06  2.113785e+07], likelihood: 1.0: \n",
      "epochs: 119, weights: [-2.750000e+03 -1.059950e+06  1.611625e+07], likelihood: 1.0: \n",
      "epochs: 115, weights: [-5.650000e+03 -1.033300e+06  1.572465e+07], likelihood: 1.0: \n",
      "epochs: 23, weights: [-5.50000e+02 -2.16050e+05  3.28755e+06], likelihood: 1.0: \n",
      "epochs: 41, weights: [-2.3500e+03 -3.8455e+05  5.8236e+06], likelihood: 1.0: \n",
      "epochs: 182, weights: [-3.250000e+03 -1.608700e+06  2.432225e+07], likelihood: 1.0: \n",
      "epochs: 206, weights: [ 9.550000e+03 -1.761650e+06  2.681315e+07], likelihood: 1.0: \n",
      "epochs: 108, weights: [-5.50000e+02 -8.93200e+05  1.35227e+07], likelihood: 1.0: \n",
      "epochs: 123, weights: [-3.050000e+03 -1.071250e+06  1.630465e+07], likelihood: 1.0: \n",
      "epochs: 114, weights: [-5.550000e+03 -9.718500e+05  1.465975e+07], likelihood: 1.0: \n",
      "epochs: 139, weights: [-2.050000e+03 -1.158400e+06  1.763155e+07], likelihood: 1.0: \n",
      "epochs: 32, weights: [-1.35000e+03 -2.89800e+05  4.38545e+06], likelihood: 1.0: \n",
      "epochs: 132, weights: [ 3.25000e+03 -1.09610e+06  1.65816e+07], likelihood: 1.0: \n",
      "epochs: 92, weights: [ 3.05000e+03 -7.48700e+05  1.13184e+07], likelihood: 1.0: \n",
      "epochs: 153, weights: [-5.25000e+03 -1.34990e+06  2.03355e+07], likelihood: 1.0: \n",
      "Cross-validation accuracy (batch): 0.9666666666666667\n"
     ]
    }
   ],
   "source": [
    "stoch_accuracy = leave_one_out_cross_val(X, y, fit_stoch)\n",
    "print('Cross-validation accuracy (batch):', stoch_accuracy)"
   ]
  },
  {
   "cell_type": "markdown",
   "id": "incident-future",
   "metadata": {},
   "source": [
    "## Visualizing the logistic surface"
   ]
  },
  {
   "cell_type": "code",
   "execution_count": 189,
   "id": "attached-occasion",
   "metadata": {},
   "outputs": [],
   "source": [
    "def plot_logistic_surf(x_range, y_range, w_opt):\n",
    "    x_axis, y_axis = np.meshgrid(x_range, y_range)\n",
    "\n",
    "    # We compute the probability surface as a function of x and y\n",
    "    # First generate the (1, x, y) tuples\n",
    "    grid = np.array([[[1.0, i, j] for j in y_range] for i in x_range])\n",
    "    # Then, compute logistic((1, x, y) . w_opt)\n",
    "    z_axis = logistic((grid @ w_opt))\n",
    "    return x_axis, y_axis, z_axis.T"
   ]
  },
  {
   "cell_type": "code",
   "execution_count": 190,
   "id": "harmful-identity",
   "metadata": {},
   "outputs": [
    {
     "name": "stderr",
     "output_type": "stream",
     "text": [
      "/var/folders/5q/1zq3861n3pj6h6_5rdgnv_tm0000gn/T/ipykernel_43947/3012075495.py:3: RuntimeWarning: overflow encountered in exp\n",
      "  return 1 / (1 + np.exp(-x))\n"
     ]
    },
    {
     "data": {
      "image/png": "[encoded data removed]",
      "text/plain": [
       "<Figure size 640x480 with 2 Axes>"
      ]
     },
     "metadata": {},
     "output_type": "display_data"
    }
   ],
   "source": [
    "x_range = np.linspace(0, 100000, 200)\n",
    "y_range = np.linspace(0, 10000, 200)\n",
    "# w = [2.073225839414742, -0.049125455233437906, 0.7440143556104162]\n",
    "\n",
    "x_axis, y_axis, z_axis = plot_logistic_surf(x_range, y_range, w)\n",
    "\n",
    "fig = plt.figure()\n",
    "ax = Axes3D(fig, auto_add_to_figure=False)\n",
    "fig.add_axes(ax)\n",
    "\n",
    "surf = ax.plot_surface(y_axis, x_axis, z_axis, rstride=1, cstride=1, cmap=cm.coolwarm,\n",
    "                       linewidth=0, antialiased=False, alpha=0.2)\n",
    "fig.colorbar(surf, shrink=0.5, aspect=5)\n",
    "# We plot the observations\n",
    "for x, y_class in zip(X, y):\n",
    "    if y_class == 1:\n",
    "        ax.scatter(x[2], x[1], y_class, color='green', marker='x')\n",
    "    else:\n",
    "        ax.scatter(x[2], x[1], y_class, color='red', marker='x')\n",
    "\n",
    "ax.elev = 30\n",
    "ax.azim = -150\n",
    "plt.show()"
   ]
  },
  {
   "cell_type": "markdown",
   "id": "internal-harassment",
   "metadata": {},
   "source": [
    "## Programming logistic regression with popular APIs\n",
    "Should you use logistic regression in a project, you will probably resort to existing libraries. In three separate notebooks, you will apply the logistic regression classification with three popular APIs:\n",
    "1. sklearn\n",
    "2. PyTorch\n",
    "3. Keras\n",
    "\n",
    "`sklearn` is included in anaconda.\n",
    "You will install the rest, ans possibly more, with:\n",
    "```\n",
    "pip2 install --upgrade keras \n",
    "pip3 install --upgrade torch\n",
    "```\n",
    "You will read and run the code in these three separate notebooks."
   ]
  },
  {
   "attachments": {},
   "cell_type": "markdown",
   "id": "promising-spring",
   "metadata": {},
   "source": [
    "## Reading\n",
    "You will read the article *An overview of gradient descent optimization algorithms* by Ruder (2017) and you will outline the main characteristics of all the optimization algorithms the author describes. This part should be of about one to two pages. Link to the article: https://arxiv.org/abs/1609.04747.\n",
    "\n",
    "You can also visualize the descents of the algorithm variants on Ruder's webpage: https://www.ruder.io/optimizing-gradient-descent/.\n",
    "\n",
    "If you understand French, or using Google translate, you may also want to read the original article on gradient descent by Cauchy here:  https://gallica.bnf.fr/ark:/12148/bpt6k2982c/f540.item.\n"
   ]
  },
  {
   "cell_type": "markdown",
   "id": "level-lodging",
   "metadata": {},
   "source": [
    "### Report\n",
    "\n",
    "The assignment must be documented in the report, which should contain the following:\n",
    "\n",
    "*   The name of the author, the title of the assignment, and any relevant information on the front page;\n",
    "*   A presentation of the assignment and the possible improvements you would have brought;\n",
    "*   A presentation of your implementation;\n",
    "*   A print-out of the example set(s) and the resulting weight vectors;\n",
    "*   Comments on the results you have obtained, including your cross validation;\n",
    "*   A short dissertation on the optimization algorithms from Ruder's paper.\n",
    "\n",
    "Please, typeset and format your report consistently. You must use Latex. Documents written using MS Word or any similar format will not be considered.\n",
    "\n",
    "You may have a look at the code in the textbook code repository (or any other implementations), but the code you hand in must be your work."
   ]
  },
  {
   "cell_type": "markdown",
   "id": "damaged-blackberry",
   "metadata": {},
   "source": [
    "## Submission\n",
    "Submit the notebook and the report to Canvas (two files). Do not include the code printout in the report, but only comments on its interesting parts. You will submit the notebook as a separate file."
   ]
  },
  {
   "cell_type": "code",
   "execution_count": null,
   "id": "adjacent-guarantee",
   "metadata": {},
   "outputs": [],
   "source": []
  }
 ],
 "metadata": {
  "kernelspec": {
   "display_name": "base",
   "language": "python",
   "name": "python3"
  },
  "language_info": {
   "codemirror_mode": {
    "name": "ipython",
    "version": 3
   },
   "file_extension": ".py",
   "mimetype": "text/x-python",
   "name": "python",
   "nbconvert_exporter": "python",
   "pygments_lexer": "ipython3",
   "version": "3.12.4"
  },
  "vscode": {
   "interpreter": {
    "hash": "b97b11a820675205aae8f1d7f2a3f22bbd3a2c30189f44042310baf5b4cd1987"
   }
  }
 },
 "nbformat": 4,
 "nbformat_minor": 5
}
